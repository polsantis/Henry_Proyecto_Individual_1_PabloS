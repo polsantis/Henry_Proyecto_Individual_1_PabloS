{
 "cells": [
  {
   "cell_type": "markdown",
   "metadata": {},
   "source": [
    "**Análisis y Modelado**\n",
    "\n",
    "Análisis y Modelado de Data para nuestro modelo de Machine Learning"
   ]
  },
  {
   "cell_type": "code",
   "execution_count": 57,
   "metadata": {},
   "outputs": [],
   "source": [
    "import pandas as pd\n",
    "import numpy as np\n",
    "import ast\n",
    "import matplotlib.pyplot as plt\n",
    "import seaborn as sns"
   ]
  },
  {
   "cell_type": "markdown",
   "metadata": {},
   "source": [
    "Luego de importar las librerías ingestaremos con un archivo JSON y convertiremos sus líneas en objeto de Python para almacenarlos en la lista 'rows'. Al final del proceso, la lista 'rows' contendrá todos los objetos del archivo JSON."
   ]
  },
  {
   "cell_type": "code",
   "execution_count": 58,
   "metadata": {},
   "outputs": [],
   "source": [
    "rows = []\n",
    "with open('steam_games.json') as file:\n",
    "    for line in file.readlines():\n",
    "        rows.append(ast.literal_eval(line))"
   ]
  },
  {
   "cell_type": "markdown",
   "metadata": {},
   "source": [
    "Convertimos la lista 'rows' en un DataFrame de pandas y luego inspeccionamos los datos."
   ]
  },
  {
   "cell_type": "code",
   "execution_count": 59,
   "metadata": {},
   "outputs": [
    {
     "data": {
      "text/html": [
       "<div>\n",
       "<style scoped>\n",
       "    .dataframe tbody tr th:only-of-type {\n",
       "        vertical-align: middle;\n",
       "    }\n",
       "\n",
       "    .dataframe tbody tr th {\n",
       "        vertical-align: top;\n",
       "    }\n",
       "\n",
       "    .dataframe thead th {\n",
       "        text-align: right;\n",
       "    }\n",
       "</style>\n",
       "<table border=\"1\" class=\"dataframe\">\n",
       "  <thead>\n",
       "    <tr style=\"text-align: right;\">\n",
       "      <th></th>\n",
       "      <th>publisher</th>\n",
       "      <th>genres</th>\n",
       "      <th>app_name</th>\n",
       "      <th>title</th>\n",
       "      <th>url</th>\n",
       "      <th>release_date</th>\n",
       "      <th>tags</th>\n",
       "      <th>discount_price</th>\n",
       "      <th>reviews_url</th>\n",
       "      <th>specs</th>\n",
       "      <th>price</th>\n",
       "      <th>early_access</th>\n",
       "      <th>id</th>\n",
       "      <th>developer</th>\n",
       "      <th>sentiment</th>\n",
       "      <th>metascore</th>\n",
       "    </tr>\n",
       "  </thead>\n",
       "  <tbody>\n",
       "    <tr>\n",
       "      <th>0</th>\n",
       "      <td>Kotoshiro</td>\n",
       "      <td>[Action, Casual, Indie, Simulation, Strategy]</td>\n",
       "      <td>Lost Summoner Kitty</td>\n",
       "      <td>Lost Summoner Kitty</td>\n",
       "      <td>http://store.steampowered.com/app/761140/Lost_...</td>\n",
       "      <td>2018-01-04</td>\n",
       "      <td>[Strategy, Action, Indie, Casual, Simulation]</td>\n",
       "      <td>4.49</td>\n",
       "      <td>http://steamcommunity.com/app/761140/reviews/?...</td>\n",
       "      <td>[Single-player]</td>\n",
       "      <td>4.99</td>\n",
       "      <td>False</td>\n",
       "      <td>761140</td>\n",
       "      <td>Kotoshiro</td>\n",
       "      <td>NaN</td>\n",
       "      <td>NaN</td>\n",
       "    </tr>\n",
       "    <tr>\n",
       "      <th>1</th>\n",
       "      <td>Making Fun, Inc.</td>\n",
       "      <td>[Free to Play, Indie, RPG, Strategy]</td>\n",
       "      <td>Ironbound</td>\n",
       "      <td>Ironbound</td>\n",
       "      <td>http://store.steampowered.com/app/643980/Ironb...</td>\n",
       "      <td>2018-01-04</td>\n",
       "      <td>[Free to Play, Strategy, Indie, RPG, Card Game...</td>\n",
       "      <td>NaN</td>\n",
       "      <td>http://steamcommunity.com/app/643980/reviews/?...</td>\n",
       "      <td>[Single-player, Multi-player, Online Multi-Pla...</td>\n",
       "      <td>Free To Play</td>\n",
       "      <td>False</td>\n",
       "      <td>643980</td>\n",
       "      <td>Secret Level SRL</td>\n",
       "      <td>Mostly Positive</td>\n",
       "      <td>NaN</td>\n",
       "    </tr>\n",
       "    <tr>\n",
       "      <th>2</th>\n",
       "      <td>Poolians.com</td>\n",
       "      <td>[Casual, Free to Play, Indie, Simulation, Sports]</td>\n",
       "      <td>Real Pool 3D - Poolians</td>\n",
       "      <td>Real Pool 3D - Poolians</td>\n",
       "      <td>http://store.steampowered.com/app/670290/Real_...</td>\n",
       "      <td>2017-07-24</td>\n",
       "      <td>[Free to Play, Simulation, Sports, Casual, Ind...</td>\n",
       "      <td>NaN</td>\n",
       "      <td>http://steamcommunity.com/app/670290/reviews/?...</td>\n",
       "      <td>[Single-player, Multi-player, Online Multi-Pla...</td>\n",
       "      <td>Free to Play</td>\n",
       "      <td>False</td>\n",
       "      <td>670290</td>\n",
       "      <td>Poolians.com</td>\n",
       "      <td>Mostly Positive</td>\n",
       "      <td>NaN</td>\n",
       "    </tr>\n",
       "    <tr>\n",
       "      <th>3</th>\n",
       "      <td>彼岸领域</td>\n",
       "      <td>[Action, Adventure, Casual]</td>\n",
       "      <td>弹炸人2222</td>\n",
       "      <td>弹炸人2222</td>\n",
       "      <td>http://store.steampowered.com/app/767400/2222/</td>\n",
       "      <td>2017-12-07</td>\n",
       "      <td>[Action, Adventure, Casual]</td>\n",
       "      <td>0.83</td>\n",
       "      <td>http://steamcommunity.com/app/767400/reviews/?...</td>\n",
       "      <td>[Single-player]</td>\n",
       "      <td>0.99</td>\n",
       "      <td>False</td>\n",
       "      <td>767400</td>\n",
       "      <td>彼岸领域</td>\n",
       "      <td>NaN</td>\n",
       "      <td>NaN</td>\n",
       "    </tr>\n",
       "    <tr>\n",
       "      <th>4</th>\n",
       "      <td>NaN</td>\n",
       "      <td>NaN</td>\n",
       "      <td>Log Challenge</td>\n",
       "      <td>NaN</td>\n",
       "      <td>http://store.steampowered.com/app/773570/Log_C...</td>\n",
       "      <td>NaN</td>\n",
       "      <td>[Action, Indie, Casual, Sports]</td>\n",
       "      <td>1.79</td>\n",
       "      <td>http://steamcommunity.com/app/773570/reviews/?...</td>\n",
       "      <td>[Single-player, Full controller support, HTC V...</td>\n",
       "      <td>2.99</td>\n",
       "      <td>False</td>\n",
       "      <td>773570</td>\n",
       "      <td>NaN</td>\n",
       "      <td>NaN</td>\n",
       "      <td>NaN</td>\n",
       "    </tr>\n",
       "  </tbody>\n",
       "</table>\n",
       "</div>"
      ],
      "text/plain": [
       "          publisher                                             genres  \\\n",
       "0         Kotoshiro      [Action, Casual, Indie, Simulation, Strategy]   \n",
       "1  Making Fun, Inc.               [Free to Play, Indie, RPG, Strategy]   \n",
       "2      Poolians.com  [Casual, Free to Play, Indie, Simulation, Sports]   \n",
       "3              彼岸领域                        [Action, Adventure, Casual]   \n",
       "4               NaN                                                NaN   \n",
       "\n",
       "                  app_name                    title  \\\n",
       "0      Lost Summoner Kitty      Lost Summoner Kitty   \n",
       "1                Ironbound                Ironbound   \n",
       "2  Real Pool 3D - Poolians  Real Pool 3D - Poolians   \n",
       "3                  弹炸人2222                  弹炸人2222   \n",
       "4            Log Challenge                      NaN   \n",
       "\n",
       "                                                 url release_date  \\\n",
       "0  http://store.steampowered.com/app/761140/Lost_...   2018-01-04   \n",
       "1  http://store.steampowered.com/app/643980/Ironb...   2018-01-04   \n",
       "2  http://store.steampowered.com/app/670290/Real_...   2017-07-24   \n",
       "3     http://store.steampowered.com/app/767400/2222/   2017-12-07   \n",
       "4  http://store.steampowered.com/app/773570/Log_C...          NaN   \n",
       "\n",
       "                                                tags  discount_price  \\\n",
       "0      [Strategy, Action, Indie, Casual, Simulation]            4.49   \n",
       "1  [Free to Play, Strategy, Indie, RPG, Card Game...             NaN   \n",
       "2  [Free to Play, Simulation, Sports, Casual, Ind...             NaN   \n",
       "3                        [Action, Adventure, Casual]            0.83   \n",
       "4                    [Action, Indie, Casual, Sports]            1.79   \n",
       "\n",
       "                                         reviews_url  \\\n",
       "0  http://steamcommunity.com/app/761140/reviews/?...   \n",
       "1  http://steamcommunity.com/app/643980/reviews/?...   \n",
       "2  http://steamcommunity.com/app/670290/reviews/?...   \n",
       "3  http://steamcommunity.com/app/767400/reviews/?...   \n",
       "4  http://steamcommunity.com/app/773570/reviews/?...   \n",
       "\n",
       "                                               specs         price  \\\n",
       "0                                    [Single-player]          4.99   \n",
       "1  [Single-player, Multi-player, Online Multi-Pla...  Free To Play   \n",
       "2  [Single-player, Multi-player, Online Multi-Pla...  Free to Play   \n",
       "3                                    [Single-player]          0.99   \n",
       "4  [Single-player, Full controller support, HTC V...          2.99   \n",
       "\n",
       "   early_access      id         developer        sentiment metascore  \n",
       "0         False  761140         Kotoshiro              NaN       NaN  \n",
       "1         False  643980  Secret Level SRL  Mostly Positive       NaN  \n",
       "2         False  670290      Poolians.com  Mostly Positive       NaN  \n",
       "3         False  767400              彼岸领域              NaN       NaN  \n",
       "4         False  773570               NaN              NaN       NaN  "
      ]
     },
     "execution_count": 59,
     "metadata": {},
     "output_type": "execute_result"
    }
   ],
   "source": [
    "df = pd.DataFrame(rows)\n",
    "df.head()"
   ]
  },
  {
   "cell_type": "markdown",
   "metadata": {},
   "source": [
    "A continuación verificamos, con una visión general de los datos, su estructura y observaremos los detalles."
   ]
  },
  {
   "cell_type": "code",
   "execution_count": 60,
   "metadata": {},
   "outputs": [
    {
     "name": "stdout",
     "output_type": "stream",
     "text": [
      "<class 'pandas.core.frame.DataFrame'>\n",
      "RangeIndex: 32135 entries, 0 to 32134\n",
      "Data columns (total 16 columns):\n",
      " #   Column          Non-Null Count  Dtype  \n",
      "---  ------          --------------  -----  \n",
      " 0   publisher       24083 non-null  object \n",
      " 1   genres          28852 non-null  object \n",
      " 2   app_name        32133 non-null  object \n",
      " 3   title           30085 non-null  object \n",
      " 4   url             32135 non-null  object \n",
      " 5   release_date    30068 non-null  object \n",
      " 6   tags            31972 non-null  object \n",
      " 7   discount_price  225 non-null    float64\n",
      " 8   reviews_url     32133 non-null  object \n",
      " 9   specs           31465 non-null  object \n",
      " 10  price           30758 non-null  object \n",
      " 11  early_access    32135 non-null  bool   \n",
      " 12  id              32133 non-null  object \n",
      " 13  developer       28836 non-null  object \n",
      " 14  sentiment       24953 non-null  object \n",
      " 15  metascore       2677 non-null   object \n",
      "dtypes: bool(1), float64(1), object(14)\n",
      "memory usage: 3.7+ MB\n"
     ]
    }
   ],
   "source": [
    "df.info()"
   ]
  },
  {
   "cell_type": "markdown",
   "metadata": {},
   "source": [
    "A continuación utilizaremos un gráfico de barras para visualizar los valores nulos."
   ]
  },
  {
   "cell_type": "code",
   "execution_count": 61,
   "metadata": {},
   "outputs": [
    {
     "data": {
      "image/png": "[encoded data removed]",
      "text/plain": [
       "<Figure size 1000x600 with 1 Axes>"
      ]
     },
     "metadata": {},
     "output_type": "display_data"
    }
   ],
   "source": [
    "\n",
    "plt.figure(figsize=(10, 6))\n",
    "sns.barplot(x=df.isna().sum(), y=df.columns)\n",
    "plt.xticks(rotation=90)\n",
    "plt.xlabel('Columnas')\n",
    "plt.ylabel('Cantidad de Valores Nulos')\n",
    "plt.title('Valores Nulos en el DataFrame')\n",
    "plt.show()\n"
   ]
  },
  {
   "cell_type": "markdown",
   "metadata": {},
   "source": [
    "**Limpieza**\n",
    "\n",
    "Descartamos las columnas de URLs e IDs que no son relevantes para el modelo de Machine Learning.\n",
    "+ las que se suman"
   ]
  },
  {
   "cell_type": "code",
   "execution_count": 62,
   "metadata": {},
   "outputs": [],
   "source": [
    "df = df.drop(['url', 'reviews_url', 'id','publisher', 'metascore', 'developer', 'sentiment' ], axis=1)"
   ]
  },
  {
   "cell_type": "markdown",
   "metadata": {},
   "source": [
    "Verificamos"
   ]
  },
  {
   "cell_type": "code",
   "execution_count": 63,
   "metadata": {},
   "outputs": [
    {
     "name": "stdout",
     "output_type": "stream",
     "text": [
      "<class 'pandas.core.frame.DataFrame'>\n",
      "RangeIndex: 32135 entries, 0 to 32134\n",
      "Data columns (total 9 columns):\n",
      " #   Column          Non-Null Count  Dtype  \n",
      "---  ------          --------------  -----  \n",
      " 0   genres          28852 non-null  object \n",
      " 1   app_name        32133 non-null  object \n",
      " 2   title           30085 non-null  object \n",
      " 3   release_date    30068 non-null  object \n",
      " 4   tags            31972 non-null  object \n",
      " 5   discount_price  225 non-null    float64\n",
      " 6   specs           31465 non-null  object \n",
      " 7   price           30758 non-null  object \n",
      " 8   early_access    32135 non-null  bool   \n",
      "dtypes: bool(1), float64(1), object(7)\n",
      "memory usage: 2.0+ MB\n"
     ]
    }
   ],
   "source": [
    "df.info()"
   ]
  },
  {
   "cell_type": "markdown",
   "metadata": {},
   "source": [
    "A continuación calcularemos y verificaremos cuántos registros duplicados fueron eliminados y cuántos registros totales existen en el DataFrame original."
   ]
  },
  {
   "cell_type": "code",
   "execution_count": 64,
   "metadata": {},
   "outputs": [
    {
     "name": "stdout",
     "output_type": "stream",
     "text": [
      "Filas: 32135\n",
      "Filas duplicadas: 2\n"
     ]
    }
   ],
   "source": [
    "filas = df.shape[0]\n",
    "\n",
    "df.drop_duplicates(subset=['app_name',\n",
    "                           'title',\n",
    "                           'release_date',\n",
    "                           'discount_price',\n",
    "                           'price',\n",
    "                           'early_access'], inplace=True)\n",
    "\n",
    "duplicados = filas - df.shape[0]\n",
    "\n",
    "print(f\"Filas: {filas}\")\n",
    "print(f\"Filas duplicadas: {duplicados}\")"
   ]
  },
  {
   "cell_type": "markdown",
   "metadata": {},
   "source": [
    "Haremos una lista con los nombres de las columnas del DataFrame"
   ]
  },
  {
   "cell_type": "code",
   "execution_count": 65,
   "metadata": {},
   "outputs": [
    {
     "data": {
      "text/plain": [
       "['genres',\n",
       " 'app_name',\n",
       " 'title',\n",
       " 'release_date',\n",
       " 'tags',\n",
       " 'discount_price',\n",
       " 'specs',\n",
       " 'price',\n",
       " 'early_access']"
      ]
     },
     "execution_count": 65,
     "metadata": {},
     "output_type": "execute_result"
    }
   ],
   "source": [
    "df.columns.to_list()"
   ]
  },
  {
   "cell_type": "markdown",
   "metadata": {},
   "source": [
    "**VARIABLES**\n",
    "\n",
    "Analisaremos las siguientes variables"
   ]
  },
  {
   "cell_type": "markdown",
   "metadata": {},
   "source": [
    "*PRICE*\n",
    "\n",
    "Esta es una de las variables más valiosas, no solo por la información que nos puede dar, sino porque será la que intentemos predecir."
   ]
  },
  {
   "cell_type": "markdown",
   "metadata": {},
   "source": [
    "Comenzaremos con una visualización"
   ]
  },
  {
   "cell_type": "code",
   "execution_count": 66,
   "metadata": {},
   "outputs": [
    {
     "data": {
      "text/html": [
       "<div>\n",
       "<style scoped>\n",
       "    .dataframe tbody tr th:only-of-type {\n",
       "        vertical-align: middle;\n",
       "    }\n",
       "\n",
       "    .dataframe tbody tr th {\n",
       "        vertical-align: top;\n",
       "    }\n",
       "\n",
       "    .dataframe thead th {\n",
       "        text-align: right;\n",
       "    }\n",
       "</style>\n",
       "<table border=\"1\" class=\"dataframe\">\n",
       "  <thead>\n",
       "    <tr style=\"text-align: right;\">\n",
       "      <th></th>\n",
       "      <th>genres</th>\n",
       "      <th>app_name</th>\n",
       "      <th>title</th>\n",
       "      <th>release_date</th>\n",
       "      <th>tags</th>\n",
       "      <th>discount_price</th>\n",
       "      <th>specs</th>\n",
       "      <th>price</th>\n",
       "      <th>early_access</th>\n",
       "    </tr>\n",
       "  </thead>\n",
       "  <tbody>\n",
       "    <tr>\n",
       "      <th>0</th>\n",
       "      <td>[Action, Casual, Indie, Simulation, Strategy]</td>\n",
       "      <td>Lost Summoner Kitty</td>\n",
       "      <td>Lost Summoner Kitty</td>\n",
       "      <td>2018-01-04</td>\n",
       "      <td>[Strategy, Action, Indie, Casual, Simulation]</td>\n",
       "      <td>4.49</td>\n",
       "      <td>[Single-player]</td>\n",
       "      <td>4.99</td>\n",
       "      <td>False</td>\n",
       "    </tr>\n",
       "    <tr>\n",
       "      <th>1</th>\n",
       "      <td>[Free to Play, Indie, RPG, Strategy]</td>\n",
       "      <td>Ironbound</td>\n",
       "      <td>Ironbound</td>\n",
       "      <td>2018-01-04</td>\n",
       "      <td>[Free to Play, Strategy, Indie, RPG, Card Game...</td>\n",
       "      <td>NaN</td>\n",
       "      <td>[Single-player, Multi-player, Online Multi-Pla...</td>\n",
       "      <td>Free To Play</td>\n",
       "      <td>False</td>\n",
       "    </tr>\n",
       "    <tr>\n",
       "      <th>2</th>\n",
       "      <td>[Casual, Free to Play, Indie, Simulation, Sports]</td>\n",
       "      <td>Real Pool 3D - Poolians</td>\n",
       "      <td>Real Pool 3D - Poolians</td>\n",
       "      <td>2017-07-24</td>\n",
       "      <td>[Free to Play, Simulation, Sports, Casual, Ind...</td>\n",
       "      <td>NaN</td>\n",
       "      <td>[Single-player, Multi-player, Online Multi-Pla...</td>\n",
       "      <td>Free to Play</td>\n",
       "      <td>False</td>\n",
       "    </tr>\n",
       "    <tr>\n",
       "      <th>3</th>\n",
       "      <td>[Action, Adventure, Casual]</td>\n",
       "      <td>弹炸人2222</td>\n",
       "      <td>弹炸人2222</td>\n",
       "      <td>2017-12-07</td>\n",
       "      <td>[Action, Adventure, Casual]</td>\n",
       "      <td>0.83</td>\n",
       "      <td>[Single-player]</td>\n",
       "      <td>0.99</td>\n",
       "      <td>False</td>\n",
       "    </tr>\n",
       "    <tr>\n",
       "      <th>4</th>\n",
       "      <td>NaN</td>\n",
       "      <td>Log Challenge</td>\n",
       "      <td>NaN</td>\n",
       "      <td>NaN</td>\n",
       "      <td>[Action, Indie, Casual, Sports]</td>\n",
       "      <td>1.79</td>\n",
       "      <td>[Single-player, Full controller support, HTC V...</td>\n",
       "      <td>2.99</td>\n",
       "      <td>False</td>\n",
       "    </tr>\n",
       "  </tbody>\n",
       "</table>\n",
       "</div>"
      ],
      "text/plain": [
       "                                              genres                 app_name  \\\n",
       "0      [Action, Casual, Indie, Simulation, Strategy]      Lost Summoner Kitty   \n",
       "1               [Free to Play, Indie, RPG, Strategy]                Ironbound   \n",
       "2  [Casual, Free to Play, Indie, Simulation, Sports]  Real Pool 3D - Poolians   \n",
       "3                        [Action, Adventure, Casual]                  弹炸人2222   \n",
       "4                                                NaN            Log Challenge   \n",
       "\n",
       "                     title release_date  \\\n",
       "0      Lost Summoner Kitty   2018-01-04   \n",
       "1                Ironbound   2018-01-04   \n",
       "2  Real Pool 3D - Poolians   2017-07-24   \n",
       "3                  弹炸人2222   2017-12-07   \n",
       "4                      NaN          NaN   \n",
       "\n",
       "                                                tags  discount_price  \\\n",
       "0      [Strategy, Action, Indie, Casual, Simulation]            4.49   \n",
       "1  [Free to Play, Strategy, Indie, RPG, Card Game...             NaN   \n",
       "2  [Free to Play, Simulation, Sports, Casual, Ind...             NaN   \n",
       "3                        [Action, Adventure, Casual]            0.83   \n",
       "4                    [Action, Indie, Casual, Sports]            1.79   \n",
       "\n",
       "                                               specs         price  \\\n",
       "0                                    [Single-player]          4.99   \n",
       "1  [Single-player, Multi-player, Online Multi-Pla...  Free To Play   \n",
       "2  [Single-player, Multi-player, Online Multi-Pla...  Free to Play   \n",
       "3                                    [Single-player]          0.99   \n",
       "4  [Single-player, Full controller support, HTC V...          2.99   \n",
       "\n",
       "   early_access  \n",
       "0         False  \n",
       "1         False  \n",
       "2         False  \n",
       "3         False  \n",
       "4         False  "
      ]
     },
     "execution_count": 66,
     "metadata": {},
     "output_type": "execute_result"
    }
   ],
   "source": [
    "df.head()"
   ]
  },
  {
   "cell_type": "markdown",
   "metadata": {},
   "source": [
    "Luego de la visualización notamos que hay varios juegos que son considerados 'Free to play' y juegos que no tienen precio, NaN.\n",
    "\n",
    "Ambos son considerados com un obstáculo si lo que queremos es calcular el precio de los juegos.\n",
    "\n",
    "Por este motivo, a continuación haremos primero un conteo y luego los eliminaremos."
   ]
  },
  {
   "cell_type": "markdown",
   "metadata": {},
   "source": [
    "Conteo Free to play Games:"
   ]
  },
  {
   "cell_type": "code",
   "execution_count": 67,
   "metadata": {},
   "outputs": [
    {
     "name": "stdout",
     "output_type": "stream",
     "text": [
      "Free to play Games: 982\n"
     ]
    }
   ],
   "source": [
    "free = (df['price'].str.lower() == 'free to play').sum()\n",
    "print(f'Free to play Games: {free}')"
   ]
  },
  {
   "cell_type": "markdown",
   "metadata": {},
   "source": [
    "Conteo Juegos sin precio:"
   ]
  },
  {
   "cell_type": "code",
   "execution_count": 68,
   "metadata": {},
   "outputs": [
    {
     "name": "stdout",
     "output_type": "stream",
     "text": [
      "Juegos sin precio: 1377\n"
     ]
    }
   ],
   "source": [
    "sin_precio = df['price'].isna().sum()\n",
    "\n",
    "print(f'Juegos sin precio: {sin_precio}')"
   ]
  },
  {
   "cell_type": "markdown",
   "metadata": {},
   "source": [
    "\n",
    "Convertiremos la columna 'price' en valores numéricos y dejaremos como NaN aquellos que no podramos convertir.\n",
    "\n",
    "Luego verificamos:"
   ]
  },
  {
   "cell_type": "code",
   "execution_count": 69,
   "metadata": {},
   "outputs": [
    {
     "data": {
      "text/html": [
       "<div>\n",
       "<style scoped>\n",
       "    .dataframe tbody tr th:only-of-type {\n",
       "        vertical-align: middle;\n",
       "    }\n",
       "\n",
       "    .dataframe tbody tr th {\n",
       "        vertical-align: top;\n",
       "    }\n",
       "\n",
       "    .dataframe thead th {\n",
       "        text-align: right;\n",
       "    }\n",
       "</style>\n",
       "<table border=\"1\" class=\"dataframe\">\n",
       "  <thead>\n",
       "    <tr style=\"text-align: right;\">\n",
       "      <th></th>\n",
       "      <th>genres</th>\n",
       "      <th>app_name</th>\n",
       "      <th>title</th>\n",
       "      <th>release_date</th>\n",
       "      <th>tags</th>\n",
       "      <th>discount_price</th>\n",
       "      <th>specs</th>\n",
       "      <th>price</th>\n",
       "      <th>early_access</th>\n",
       "    </tr>\n",
       "  </thead>\n",
       "  <tbody>\n",
       "    <tr>\n",
       "      <th>0</th>\n",
       "      <td>[Action, Casual, Indie, Simulation, Strategy]</td>\n",
       "      <td>Lost Summoner Kitty</td>\n",
       "      <td>Lost Summoner Kitty</td>\n",
       "      <td>2018-01-04</td>\n",
       "      <td>[Strategy, Action, Indie, Casual, Simulation]</td>\n",
       "      <td>4.49</td>\n",
       "      <td>[Single-player]</td>\n",
       "      <td>4.99</td>\n",
       "      <td>False</td>\n",
       "    </tr>\n",
       "    <tr>\n",
       "      <th>1</th>\n",
       "      <td>[Free to Play, Indie, RPG, Strategy]</td>\n",
       "      <td>Ironbound</td>\n",
       "      <td>Ironbound</td>\n",
       "      <td>2018-01-04</td>\n",
       "      <td>[Free to Play, Strategy, Indie, RPG, Card Game...</td>\n",
       "      <td>NaN</td>\n",
       "      <td>[Single-player, Multi-player, Online Multi-Pla...</td>\n",
       "      <td>NaN</td>\n",
       "      <td>False</td>\n",
       "    </tr>\n",
       "    <tr>\n",
       "      <th>2</th>\n",
       "      <td>[Casual, Free to Play, Indie, Simulation, Sports]</td>\n",
       "      <td>Real Pool 3D - Poolians</td>\n",
       "      <td>Real Pool 3D - Poolians</td>\n",
       "      <td>2017-07-24</td>\n",
       "      <td>[Free to Play, Simulation, Sports, Casual, Ind...</td>\n",
       "      <td>NaN</td>\n",
       "      <td>[Single-player, Multi-player, Online Multi-Pla...</td>\n",
       "      <td>NaN</td>\n",
       "      <td>False</td>\n",
       "    </tr>\n",
       "    <tr>\n",
       "      <th>3</th>\n",
       "      <td>[Action, Adventure, Casual]</td>\n",
       "      <td>弹炸人2222</td>\n",
       "      <td>弹炸人2222</td>\n",
       "      <td>2017-12-07</td>\n",
       "      <td>[Action, Adventure, Casual]</td>\n",
       "      <td>0.83</td>\n",
       "      <td>[Single-player]</td>\n",
       "      <td>0.99</td>\n",
       "      <td>False</td>\n",
       "    </tr>\n",
       "    <tr>\n",
       "      <th>4</th>\n",
       "      <td>NaN</td>\n",
       "      <td>Log Challenge</td>\n",
       "      <td>NaN</td>\n",
       "      <td>NaN</td>\n",
       "      <td>[Action, Indie, Casual, Sports]</td>\n",
       "      <td>1.79</td>\n",
       "      <td>[Single-player, Full controller support, HTC V...</td>\n",
       "      <td>2.99</td>\n",
       "      <td>False</td>\n",
       "    </tr>\n",
       "  </tbody>\n",
       "</table>\n",
       "</div>"
      ],
      "text/plain": [
       "                                              genres                 app_name  \\\n",
       "0      [Action, Casual, Indie, Simulation, Strategy]      Lost Summoner Kitty   \n",
       "1               [Free to Play, Indie, RPG, Strategy]                Ironbound   \n",
       "2  [Casual, Free to Play, Indie, Simulation, Sports]  Real Pool 3D - Poolians   \n",
       "3                        [Action, Adventure, Casual]                  弹炸人2222   \n",
       "4                                                NaN            Log Challenge   \n",
       "\n",
       "                     title release_date  \\\n",
       "0      Lost Summoner Kitty   2018-01-04   \n",
       "1                Ironbound   2018-01-04   \n",
       "2  Real Pool 3D - Poolians   2017-07-24   \n",
       "3                  弹炸人2222   2017-12-07   \n",
       "4                      NaN          NaN   \n",
       "\n",
       "                                                tags  discount_price  \\\n",
       "0      [Strategy, Action, Indie, Casual, Simulation]            4.49   \n",
       "1  [Free to Play, Strategy, Indie, RPG, Card Game...             NaN   \n",
       "2  [Free to Play, Simulation, Sports, Casual, Ind...             NaN   \n",
       "3                        [Action, Adventure, Casual]            0.83   \n",
       "4                    [Action, Indie, Casual, Sports]            1.79   \n",
       "\n",
       "                                               specs  price  early_access  \n",
       "0                                    [Single-player]   4.99         False  \n",
       "1  [Single-player, Multi-player, Online Multi-Pla...    NaN         False  \n",
       "2  [Single-player, Multi-player, Online Multi-Pla...    NaN         False  \n",
       "3                                    [Single-player]   0.99         False  \n",
       "4  [Single-player, Full controller support, HTC V...   2.99         False  "
      ]
     },
     "execution_count": 69,
     "metadata": {},
     "output_type": "execute_result"
    }
   ],
   "source": [
    "df['price'] = pd.to_numeric(df['price'], errors='coerce')\n",
    "df.head()"
   ]
  },
  {
   "cell_type": "markdown",
   "metadata": {},
   "source": [
    "A continuación eliminaremos las filas que contienen valores nulos en la columna 'price'.\n",
    "\n",
    "Y luego verificamos."
   ]
  },
  {
   "cell_type": "code",
   "execution_count": 70,
   "metadata": {},
   "outputs": [
    {
     "data": {
      "text/html": [
       "<div>\n",
       "<style scoped>\n",
       "    .dataframe tbody tr th:only-of-type {\n",
       "        vertical-align: middle;\n",
       "    }\n",
       "\n",
       "    .dataframe tbody tr th {\n",
       "        vertical-align: top;\n",
       "    }\n",
       "\n",
       "    .dataframe thead th {\n",
       "        text-align: right;\n",
       "    }\n",
       "</style>\n",
       "<table border=\"1\" class=\"dataframe\">\n",
       "  <thead>\n",
       "    <tr style=\"text-align: right;\">\n",
       "      <th></th>\n",
       "      <th>genres</th>\n",
       "      <th>app_name</th>\n",
       "      <th>title</th>\n",
       "      <th>release_date</th>\n",
       "      <th>tags</th>\n",
       "      <th>discount_price</th>\n",
       "      <th>specs</th>\n",
       "      <th>price</th>\n",
       "      <th>early_access</th>\n",
       "    </tr>\n",
       "  </thead>\n",
       "  <tbody>\n",
       "    <tr>\n",
       "      <th>0</th>\n",
       "      <td>[Action, Casual, Indie, Simulation, Strategy]</td>\n",
       "      <td>Lost Summoner Kitty</td>\n",
       "      <td>Lost Summoner Kitty</td>\n",
       "      <td>2018-01-04</td>\n",
       "      <td>[Strategy, Action, Indie, Casual, Simulation]</td>\n",
       "      <td>4.49</td>\n",
       "      <td>[Single-player]</td>\n",
       "      <td>4.99</td>\n",
       "      <td>False</td>\n",
       "    </tr>\n",
       "    <tr>\n",
       "      <th>3</th>\n",
       "      <td>[Action, Adventure, Casual]</td>\n",
       "      <td>弹炸人2222</td>\n",
       "      <td>弹炸人2222</td>\n",
       "      <td>2017-12-07</td>\n",
       "      <td>[Action, Adventure, Casual]</td>\n",
       "      <td>0.83</td>\n",
       "      <td>[Single-player]</td>\n",
       "      <td>0.99</td>\n",
       "      <td>False</td>\n",
       "    </tr>\n",
       "    <tr>\n",
       "      <th>4</th>\n",
       "      <td>NaN</td>\n",
       "      <td>Log Challenge</td>\n",
       "      <td>NaN</td>\n",
       "      <td>NaN</td>\n",
       "      <td>[Action, Indie, Casual, Sports]</td>\n",
       "      <td>1.79</td>\n",
       "      <td>[Single-player, Full controller support, HTC V...</td>\n",
       "      <td>2.99</td>\n",
       "      <td>False</td>\n",
       "    </tr>\n",
       "    <tr>\n",
       "      <th>5</th>\n",
       "      <td>[Action, Adventure, Simulation]</td>\n",
       "      <td>Battle Royale Trainer</td>\n",
       "      <td>Battle Royale Trainer</td>\n",
       "      <td>2018-01-04</td>\n",
       "      <td>[Action, Adventure, Simulation, FPS, Shooter, ...</td>\n",
       "      <td>NaN</td>\n",
       "      <td>[Single-player, Steam Achievements]</td>\n",
       "      <td>3.99</td>\n",
       "      <td>False</td>\n",
       "    </tr>\n",
       "    <tr>\n",
       "      <th>6</th>\n",
       "      <td>[Free to Play, Indie, Simulation, Sports]</td>\n",
       "      <td>SNOW - All Access Basic Pass</td>\n",
       "      <td>SNOW - All Access Basic Pass</td>\n",
       "      <td>2018-01-04</td>\n",
       "      <td>[Free to Play, Indie, Simulation, Sports]</td>\n",
       "      <td>NaN</td>\n",
       "      <td>[Single-player, Multi-player, Online Multi-Pla...</td>\n",
       "      <td>9.99</td>\n",
       "      <td>False</td>\n",
       "    </tr>\n",
       "  </tbody>\n",
       "</table>\n",
       "</div>"
      ],
      "text/plain": [
       "                                          genres  \\\n",
       "0  [Action, Casual, Indie, Simulation, Strategy]   \n",
       "3                    [Action, Adventure, Casual]   \n",
       "4                                            NaN   \n",
       "5                [Action, Adventure, Simulation]   \n",
       "6      [Free to Play, Indie, Simulation, Sports]   \n",
       "\n",
       "                       app_name                         title release_date  \\\n",
       "0           Lost Summoner Kitty           Lost Summoner Kitty   2018-01-04   \n",
       "3                       弹炸人2222                       弹炸人2222   2017-12-07   \n",
       "4                 Log Challenge                           NaN          NaN   \n",
       "5         Battle Royale Trainer         Battle Royale Trainer   2018-01-04   \n",
       "6  SNOW - All Access Basic Pass  SNOW - All Access Basic Pass   2018-01-04   \n",
       "\n",
       "                                                tags  discount_price  \\\n",
       "0      [Strategy, Action, Indie, Casual, Simulation]            4.49   \n",
       "3                        [Action, Adventure, Casual]            0.83   \n",
       "4                    [Action, Indie, Casual, Sports]            1.79   \n",
       "5  [Action, Adventure, Simulation, FPS, Shooter, ...             NaN   \n",
       "6          [Free to Play, Indie, Simulation, Sports]             NaN   \n",
       "\n",
       "                                               specs  price  early_access  \n",
       "0                                    [Single-player]   4.99         False  \n",
       "3                                    [Single-player]   0.99         False  \n",
       "4  [Single-player, Full controller support, HTC V...   2.99         False  \n",
       "5                [Single-player, Steam Achievements]   3.99         False  \n",
       "6  [Single-player, Multi-player, Online Multi-Pla...   9.99         False  "
      ]
     },
     "execution_count": 70,
     "metadata": {},
     "output_type": "execute_result"
    }
   ],
   "source": [
    "df.dropna(subset=['price'], inplace=True)\n",
    "df.head()"
   ]
  },
  {
   "cell_type": "markdown",
   "metadata": {},
   "source": [
    "*Descuento (discount_price)*"
   ]
  },
  {
   "cell_type": "markdown",
   "metadata": {},
   "source": [
    "Transformamos los valores de las columnas 'discount_price' y 'discount' en datos numéricos para facilitar su procesamiento."
   ]
  },
  {
   "cell_type": "code",
   "execution_count": 71,
   "metadata": {},
   "outputs": [],
   "source": [
    "df['discount_price'] = pd.to_numeric(df['discount_price'], errors='coerce')"
   ]
  },
  {
   "cell_type": "markdown",
   "metadata": {},
   "source": [
    "Calculamos el 'Descuento Promedio' que se aplica:"
   ]
  },
  {
   "cell_type": "code",
   "execution_count": 72,
   "metadata": {},
   "outputs": [
    {
     "name": "stdout",
     "output_type": "stream",
     "text": [
      "Descuento promedio: 38.0%\n"
     ]
    }
   ],
   "source": [
    "print(f\"Descuento promedio: {round((1 - ((df.discount_price / df.price).mean())), 2) * 100}%\")"
   ]
  },
  {
   "cell_type": "markdown",
   "metadata": {},
   "source": [
    "Buscamos una relación entre 'precio' y 'precio con descuento'"
   ]
  },
  {
   "cell_type": "code",
   "execution_count": 73,
   "metadata": {},
   "outputs": [
    {
     "name": "stdout",
     "output_type": "stream",
     "text": [
      "Coeficiente de Pearson: 0.91\n"
     ]
    }
   ],
   "source": [
    "print(f\"Coeficiente de Pearson: {round(df['discount_price'].corr(df['price']), 2)}\")"
   ]
  },
  {
   "cell_type": "markdown",
   "metadata": {},
   "source": [
    "Observamos que existe una correlación significativa entre estas dos variables, ya que el precio con descuento tiende a ser un porcentaje del precio original del juego, con un promedio de descuento del 38%.\n",
    "\n",
    "Dado este patrón, abordaremos la variable desde una perspectiva binaria: \"con descuento\" y \"sin descuento\", y exploraremos la correlación desde una nueva perspectiva."
   ]
  },
  {
   "cell_type": "code",
   "execution_count": 74,
   "metadata": {},
   "outputs": [],
   "source": [
    "df_discount = df.copy()"
   ]
  },
  {
   "cell_type": "code",
   "execution_count": 75,
   "metadata": {},
   "outputs": [
    {
     "data": {
      "text/html": [
       "<div>\n",
       "<style scoped>\n",
       "    .dataframe tbody tr th:only-of-type {\n",
       "        vertical-align: middle;\n",
       "    }\n",
       "\n",
       "    .dataframe tbody tr th {\n",
       "        vertical-align: top;\n",
       "    }\n",
       "\n",
       "    .dataframe thead th {\n",
       "        text-align: right;\n",
       "    }\n",
       "</style>\n",
       "<table border=\"1\" class=\"dataframe\">\n",
       "  <thead>\n",
       "    <tr style=\"text-align: right;\">\n",
       "      <th></th>\n",
       "      <th>genres</th>\n",
       "      <th>app_name</th>\n",
       "      <th>title</th>\n",
       "      <th>release_date</th>\n",
       "      <th>tags</th>\n",
       "      <th>discount_price</th>\n",
       "      <th>specs</th>\n",
       "      <th>price</th>\n",
       "      <th>early_access</th>\n",
       "    </tr>\n",
       "  </thead>\n",
       "  <tbody>\n",
       "    <tr>\n",
       "      <th>0</th>\n",
       "      <td>[Action, Casual, Indie, Simulation, Strategy]</td>\n",
       "      <td>Lost Summoner Kitty</td>\n",
       "      <td>Lost Summoner Kitty</td>\n",
       "      <td>2018-01-04</td>\n",
       "      <td>[Strategy, Action, Indie, Casual, Simulation]</td>\n",
       "      <td>1</td>\n",
       "      <td>[Single-player]</td>\n",
       "      <td>4.99</td>\n",
       "      <td>False</td>\n",
       "    </tr>\n",
       "    <tr>\n",
       "      <th>3</th>\n",
       "      <td>[Action, Adventure, Casual]</td>\n",
       "      <td>弹炸人2222</td>\n",
       "      <td>弹炸人2222</td>\n",
       "      <td>2017-12-07</td>\n",
       "      <td>[Action, Adventure, Casual]</td>\n",
       "      <td>1</td>\n",
       "      <td>[Single-player]</td>\n",
       "      <td>0.99</td>\n",
       "      <td>False</td>\n",
       "    </tr>\n",
       "    <tr>\n",
       "      <th>4</th>\n",
       "      <td>NaN</td>\n",
       "      <td>Log Challenge</td>\n",
       "      <td>NaN</td>\n",
       "      <td>NaN</td>\n",
       "      <td>[Action, Indie, Casual, Sports]</td>\n",
       "      <td>1</td>\n",
       "      <td>[Single-player, Full controller support, HTC V...</td>\n",
       "      <td>2.99</td>\n",
       "      <td>False</td>\n",
       "    </tr>\n",
       "    <tr>\n",
       "      <th>5</th>\n",
       "      <td>[Action, Adventure, Simulation]</td>\n",
       "      <td>Battle Royale Trainer</td>\n",
       "      <td>Battle Royale Trainer</td>\n",
       "      <td>2018-01-04</td>\n",
       "      <td>[Action, Adventure, Simulation, FPS, Shooter, ...</td>\n",
       "      <td>0</td>\n",
       "      <td>[Single-player, Steam Achievements]</td>\n",
       "      <td>3.99</td>\n",
       "      <td>False</td>\n",
       "    </tr>\n",
       "    <tr>\n",
       "      <th>6</th>\n",
       "      <td>[Free to Play, Indie, Simulation, Sports]</td>\n",
       "      <td>SNOW - All Access Basic Pass</td>\n",
       "      <td>SNOW - All Access Basic Pass</td>\n",
       "      <td>2018-01-04</td>\n",
       "      <td>[Free to Play, Indie, Simulation, Sports]</td>\n",
       "      <td>0</td>\n",
       "      <td>[Single-player, Multi-player, Online Multi-Pla...</td>\n",
       "      <td>9.99</td>\n",
       "      <td>False</td>\n",
       "    </tr>\n",
       "  </tbody>\n",
       "</table>\n",
       "</div>"
      ],
      "text/plain": [
       "                                          genres  \\\n",
       "0  [Action, Casual, Indie, Simulation, Strategy]   \n",
       "3                    [Action, Adventure, Casual]   \n",
       "4                                            NaN   \n",
       "5                [Action, Adventure, Simulation]   \n",
       "6      [Free to Play, Indie, Simulation, Sports]   \n",
       "\n",
       "                       app_name                         title release_date  \\\n",
       "0           Lost Summoner Kitty           Lost Summoner Kitty   2018-01-04   \n",
       "3                       弹炸人2222                       弹炸人2222   2017-12-07   \n",
       "4                 Log Challenge                           NaN          NaN   \n",
       "5         Battle Royale Trainer         Battle Royale Trainer   2018-01-04   \n",
       "6  SNOW - All Access Basic Pass  SNOW - All Access Basic Pass   2018-01-04   \n",
       "\n",
       "                                                tags  discount_price  \\\n",
       "0      [Strategy, Action, Indie, Casual, Simulation]               1   \n",
       "3                        [Action, Adventure, Casual]               1   \n",
       "4                    [Action, Indie, Casual, Sports]               1   \n",
       "5  [Action, Adventure, Simulation, FPS, Shooter, ...               0   \n",
       "6          [Free to Play, Indie, Simulation, Sports]               0   \n",
       "\n",
       "                                               specs  price  early_access  \n",
       "0                                    [Single-player]   4.99         False  \n",
       "3                                    [Single-player]   0.99         False  \n",
       "4  [Single-player, Full controller support, HTC V...   2.99         False  \n",
       "5                [Single-player, Steam Achievements]   3.99         False  \n",
       "6  [Single-player, Multi-player, Online Multi-Pla...   9.99         False  "
      ]
     },
     "execution_count": 75,
     "metadata": {},
     "output_type": "execute_result"
    }
   ],
   "source": [
    "df_discount['discount_price'] = (df_discount['discount_price'] > 0).astype(int)\n",
    "df_discount.head()"
   ]
  },
  {
   "cell_type": "markdown",
   "metadata": {},
   "source": [
    "Completamos los valores faltantes (NaN) en la columna 'discount_price' con valor 0 utilizando. \n",
    "Cualquier celda vacía en la columna 'discount_price' será reemplazada por 0, lo que indica que no hay ningún descuento en esos casos.\n",
    "\n",
    "Luego verificamos"
   ]
  },
  {
   "cell_type": "code",
   "execution_count": 76,
   "metadata": {},
   "outputs": [
    {
     "data": {
      "text/html": [
       "<div>\n",
       "<style scoped>\n",
       "    .dataframe tbody tr th:only-of-type {\n",
       "        vertical-align: middle;\n",
       "    }\n",
       "\n",
       "    .dataframe tbody tr th {\n",
       "        vertical-align: top;\n",
       "    }\n",
       "\n",
       "    .dataframe thead th {\n",
       "        text-align: right;\n",
       "    }\n",
       "</style>\n",
       "<table border=\"1\" class=\"dataframe\">\n",
       "  <thead>\n",
       "    <tr style=\"text-align: right;\">\n",
       "      <th></th>\n",
       "      <th>genres</th>\n",
       "      <th>app_name</th>\n",
       "      <th>title</th>\n",
       "      <th>release_date</th>\n",
       "      <th>tags</th>\n",
       "      <th>discount_price</th>\n",
       "      <th>specs</th>\n",
       "      <th>price</th>\n",
       "      <th>early_access</th>\n",
       "    </tr>\n",
       "  </thead>\n",
       "  <tbody>\n",
       "    <tr>\n",
       "      <th>0</th>\n",
       "      <td>[Action, Casual, Indie, Simulation, Strategy]</td>\n",
       "      <td>Lost Summoner Kitty</td>\n",
       "      <td>Lost Summoner Kitty</td>\n",
       "      <td>2018-01-04</td>\n",
       "      <td>[Strategy, Action, Indie, Casual, Simulation]</td>\n",
       "      <td>1</td>\n",
       "      <td>[Single-player]</td>\n",
       "      <td>4.99</td>\n",
       "      <td>False</td>\n",
       "    </tr>\n",
       "    <tr>\n",
       "      <th>3</th>\n",
       "      <td>[Action, Adventure, Casual]</td>\n",
       "      <td>弹炸人2222</td>\n",
       "      <td>弹炸人2222</td>\n",
       "      <td>2017-12-07</td>\n",
       "      <td>[Action, Adventure, Casual]</td>\n",
       "      <td>1</td>\n",
       "      <td>[Single-player]</td>\n",
       "      <td>0.99</td>\n",
       "      <td>False</td>\n",
       "    </tr>\n",
       "    <tr>\n",
       "      <th>4</th>\n",
       "      <td>NaN</td>\n",
       "      <td>Log Challenge</td>\n",
       "      <td>NaN</td>\n",
       "      <td>NaN</td>\n",
       "      <td>[Action, Indie, Casual, Sports]</td>\n",
       "      <td>1</td>\n",
       "      <td>[Single-player, Full controller support, HTC V...</td>\n",
       "      <td>2.99</td>\n",
       "      <td>False</td>\n",
       "    </tr>\n",
       "    <tr>\n",
       "      <th>5</th>\n",
       "      <td>[Action, Adventure, Simulation]</td>\n",
       "      <td>Battle Royale Trainer</td>\n",
       "      <td>Battle Royale Trainer</td>\n",
       "      <td>2018-01-04</td>\n",
       "      <td>[Action, Adventure, Simulation, FPS, Shooter, ...</td>\n",
       "      <td>0</td>\n",
       "      <td>[Single-player, Steam Achievements]</td>\n",
       "      <td>3.99</td>\n",
       "      <td>False</td>\n",
       "    </tr>\n",
       "    <tr>\n",
       "      <th>6</th>\n",
       "      <td>[Free to Play, Indie, Simulation, Sports]</td>\n",
       "      <td>SNOW - All Access Basic Pass</td>\n",
       "      <td>SNOW - All Access Basic Pass</td>\n",
       "      <td>2018-01-04</td>\n",
       "      <td>[Free to Play, Indie, Simulation, Sports]</td>\n",
       "      <td>0</td>\n",
       "      <td>[Single-player, Multi-player, Online Multi-Pla...</td>\n",
       "      <td>9.99</td>\n",
       "      <td>False</td>\n",
       "    </tr>\n",
       "  </tbody>\n",
       "</table>\n",
       "</div>"
      ],
      "text/plain": [
       "                                          genres  \\\n",
       "0  [Action, Casual, Indie, Simulation, Strategy]   \n",
       "3                    [Action, Adventure, Casual]   \n",
       "4                                            NaN   \n",
       "5                [Action, Adventure, Simulation]   \n",
       "6      [Free to Play, Indie, Simulation, Sports]   \n",
       "\n",
       "                       app_name                         title release_date  \\\n",
       "0           Lost Summoner Kitty           Lost Summoner Kitty   2018-01-04   \n",
       "3                       弹炸人2222                       弹炸人2222   2017-12-07   \n",
       "4                 Log Challenge                           NaN          NaN   \n",
       "5         Battle Royale Trainer         Battle Royale Trainer   2018-01-04   \n",
       "6  SNOW - All Access Basic Pass  SNOW - All Access Basic Pass   2018-01-04   \n",
       "\n",
       "                                                tags  discount_price  \\\n",
       "0      [Strategy, Action, Indie, Casual, Simulation]               1   \n",
       "3                        [Action, Adventure, Casual]               1   \n",
       "4                    [Action, Indie, Casual, Sports]               1   \n",
       "5  [Action, Adventure, Simulation, FPS, Shooter, ...               0   \n",
       "6          [Free to Play, Indie, Simulation, Sports]               0   \n",
       "\n",
       "                                               specs  price  early_access  \n",
       "0                                    [Single-player]   4.99         False  \n",
       "3                                    [Single-player]   0.99         False  \n",
       "4  [Single-player, Full controller support, HTC V...   2.99         False  \n",
       "5                [Single-player, Steam Achievements]   3.99         False  \n",
       "6  [Single-player, Multi-player, Online Multi-Pla...   9.99         False  "
      ]
     },
     "execution_count": 76,
     "metadata": {},
     "output_type": "execute_result"
    }
   ],
   "source": [
    "df_discount['discount_price'] = df_discount['discount_price'].fillna(0)\n",
    "df_discount.head()"
   ]
  },
  {
   "cell_type": "markdown",
   "metadata": {},
   "source": [
    "A continuación calculanremos y mostraremos la cantidad de juegos en oferta y la cantidad de juegos a precio de lista en el DataFrame."
   ]
  },
  {
   "cell_type": "code",
   "execution_count": 77,
   "metadata": {},
   "outputs": [
    {
     "name": "stdout",
     "output_type": "stream",
     "text": [
      "Oferta: 160\n",
      "Lista: 28686\n"
     ]
    }
   ],
   "source": [
    "de_oferta = df_discount['discount_price'].sum()\n",
    "de_lista = df_discount.shape[0] - de_oferta\n",
    "\n",
    "print(f\"Oferta: {de_oferta}\")\n",
    "print(f\"Lista: {de_lista}\")"
   ]
  },
  {
   "cell_type": "markdown",
   "metadata": {},
   "source": [
    "Notamos una correlación bastante baja."
   ]
  },
  {
   "cell_type": "code",
   "execution_count": 78,
   "metadata": {},
   "outputs": [
    {
     "name": "stdout",
     "output_type": "stream",
     "text": [
      "Coeficiente de Pearson: -0.013\n"
     ]
    }
   ],
   "source": [
    "print(f\"Coeficiente de Pearson: {round(df_discount['discount_price'].corr(df_discount['price']), 3)}\")"
   ]
  },
  {
   "cell_type": "markdown",
   "metadata": {},
   "source": [
    "Es lógico que la correlación sea limitada, dado que la cantidad de juegos en oferta es reducida. \n",
    "\n",
    "Debido a que incluso los títulos más destacados eventualmente se ofertan y estas ofertas son temporales, la presencia de descuentos está sujeta al momento de recopilación de los datos. \n",
    "\n",
    "Por estos motivos, optamos por eliminar la columna de descuentos, ya que podría impactar negativamente en el modelo."
   ]
  },
  {
   "cell_type": "code",
   "execution_count": 79,
   "metadata": {},
   "outputs": [],
   "source": [
    "df = df.drop(['discount_price'], axis=1)"
   ]
  },
  {
   "cell_type": "markdown",
   "metadata": {},
   "source": [
    "*Release Date*\n",
    "\n",
    "Es probable que el año de lanzamiento de un juego tenga un impacto en su precio, dado que los precios tienden a aumentar con el tiempo de manera generalizada. Además, el mes de lanzamiento podría también influir, ya que ciertos meses pueden ser más propicios para los lanzamientos o coincidir con eventos especiales como las festividades navideñas.\n",
    "\n",
    "Por esta razón, vamos a introducir columnas para representar los años de lanzamiento de los juegos. En cuanto a las fechas, llevaremos a cabo la imputación de algunos valores faltantes y luego procederemos a convertirlas al formato DateTime."
   ]
  },
  {
   "cell_type": "code",
   "execution_count": 80,
   "metadata": {},
   "outputs": [],
   "source": [
    "df['release_date'] = df['release_date'].str.replace('Coming ', '')\n",
    "\n",
    "df['release_date'] = df['release_date'].str.replace('End', 'Dec')\n",
    "\n",
    "df['release_date'] = df['release_date'].str.replace('Q1', 'Feb')\n",
    "df['release_date'] = df['release_date'].str.replace('Q2', 'May')\n",
    "df['release_date'] = df['release_date'].str.replace('Q3', 'Aug')\n",
    "df['release_date'] = df['release_date'].str.replace('Q4', 'Nov')\n",
    "\n",
    "df['release_date'] = df['release_date'].str.replace('Early', 'Mar')\n",
    "df['release_date'] = df['release_date'].str.replace('Late 2016 - Early 2017', 'Mar')\n",
    "df['release_date'] = df['release_date'].str.replace('Late', 'Nov')\n",
    "\n",
    "df['release_date'] = df['release_date'].str.replace('Spring', 'Apr')\n",
    "df['release_date'] = df['release_date'].str.replace('Summer', 'Jul')\n",
    "df['release_date'] = df['release_date'].str.replace('Autumn', 'Oct')\n",
    "df['release_date'] = df['release_date'].str.replace('Winter', 'Jan')\n",
    "\n",
    "df['date1'] = pd.to_datetime(df[\"release_date\"], format=\"%b %Y\", errors='coerce') # Feb 2017\n",
    "df['date2'] = pd.to_datetime(df[\"release_date\"], format=\"%B %Y\", errors='coerce') # Aug 2017\n",
    "\n",
    "df['release_date'] = pd.to_datetime(df[\"release_date\"], errors='coerce')"
   ]
  },
  {
   "cell_type": "code",
   "execution_count": 81,
   "metadata": {},
   "outputs": [
    {
     "name": "stdout",
     "output_type": "stream",
     "text": [
      "<class 'pandas.core.frame.DataFrame'>\n",
      "Index: 28846 entries, 0 to 32134\n",
      "Data columns (total 8 columns):\n",
      " #   Column        Non-Null Count  Dtype         \n",
      "---  ------        --------------  -----         \n",
      " 0   genres        26079 non-null  object        \n",
      " 1   app_name      28845 non-null  object        \n",
      " 2   title         27244 non-null  object        \n",
      " 3   release_date  27236 non-null  datetime64[ns]\n",
      " 4   tags          28719 non-null  object        \n",
      " 5   specs         28233 non-null  object        \n",
      " 6   price         28846 non-null  float64       \n",
      " 7   early_access  28846 non-null  bool          \n",
      "dtypes: bool(1), datetime64[ns](1), float64(1), object(5)\n",
      "memory usage: 1.8+ MB\n"
     ]
    }
   ],
   "source": [
    "df['release_date'] = df['release_date'].fillna(df['date1'])\n",
    "df['release_date'] = df['release_date'].fillna(df['date2'])\n",
    "df = df.drop(['date1', 'date2'], axis=1)\n",
    "df.info()"
   ]
  },
  {
   "cell_type": "markdown",
   "metadata": {},
   "source": [
    "Calculamos el porcentaje de nulls"
   ]
  },
  {
   "cell_type": "code",
   "execution_count": 82,
   "metadata": {},
   "outputs": [
    {
     "name": "stdout",
     "output_type": "stream",
     "text": [
      "Porcentaje de nulos: 5.01%\n"
     ]
    }
   ],
   "source": [
    "nulos = df.release_date.isna().sum()\n",
    "\n",
    "print(f'Porcentaje de nulos: {round((nulos / filas * 100), 2)}%')"
   ]
  },
  {
   "cell_type": "markdown",
   "metadata": {},
   "source": [
    "A continuación prodecemos a eleminar el porcentaje de nulos."
   ]
  },
  {
   "cell_type": "code",
   "execution_count": 83,
   "metadata": {},
   "outputs": [
    {
     "data": {
      "text/plain": [
       "genres          0\n",
       "app_name        0\n",
       "title           0\n",
       "release_date    0\n",
       "tags            0\n",
       "specs           0\n",
       "price           0\n",
       "early_access    0\n",
       "dtype: int64"
      ]
     },
     "execution_count": 83,
     "metadata": {},
     "output_type": "execute_result"
    }
   ],
   "source": [
    "df.dropna(inplace=True)\n",
    "df.isna().sum().sort_values(ascending=False)"
   ]
  },
  {
   "cell_type": "markdown",
   "metadata": {},
   "source": [
    "Vamos a desglosar la columna de fechas en una nueva columna para el año."
   ]
  },
  {
   "cell_type": "code",
   "execution_count": 85,
   "metadata": {},
   "outputs": [
    {
     "data": {
      "text/html": [
       "<div>\n",
       "<style scoped>\n",
       "    .dataframe tbody tr th:only-of-type {\n",
       "        vertical-align: middle;\n",
       "    }\n",
       "\n",
       "    .dataframe tbody tr th {\n",
       "        vertical-align: top;\n",
       "    }\n",
       "\n",
       "    .dataframe thead th {\n",
       "        text-align: right;\n",
       "    }\n",
       "</style>\n",
       "<table border=\"1\" class=\"dataframe\">\n",
       "  <thead>\n",
       "    <tr style=\"text-align: right;\">\n",
       "      <th></th>\n",
       "      <th>release_date</th>\n",
       "      <th>year</th>\n",
       "    </tr>\n",
       "  </thead>\n",
       "  <tbody>\n",
       "    <tr>\n",
       "      <th>0</th>\n",
       "      <td>2018-01-04</td>\n",
       "      <td>2018</td>\n",
       "    </tr>\n",
       "    <tr>\n",
       "      <th>3</th>\n",
       "      <td>2017-12-07</td>\n",
       "      <td>2017</td>\n",
       "    </tr>\n",
       "    <tr>\n",
       "      <th>5</th>\n",
       "      <td>2018-01-04</td>\n",
       "      <td>2018</td>\n",
       "    </tr>\n",
       "    <tr>\n",
       "      <th>6</th>\n",
       "      <td>2018-01-04</td>\n",
       "      <td>2018</td>\n",
       "    </tr>\n",
       "    <tr>\n",
       "      <th>7</th>\n",
       "      <td>2018-01-04</td>\n",
       "      <td>2018</td>\n",
       "    </tr>\n",
       "  </tbody>\n",
       "</table>\n",
       "</div>"
      ],
      "text/plain": [
       "  release_date  year\n",
       "0   2018-01-04  2018\n",
       "3   2017-12-07  2017\n",
       "5   2018-01-04  2018\n",
       "6   2018-01-04  2018\n",
       "7   2018-01-04  2018"
      ]
     },
     "execution_count": 85,
     "metadata": {},
     "output_type": "execute_result"
    }
   ],
   "source": [
    "df['year'] = df['release_date'].dt.year\n",
    "df[['release_date', 'year']].head()"
   ]
  },
  {
   "cell_type": "markdown",
   "metadata": {},
   "source": [
    "A continuacón eliminaremos la columna 'release_date'.\n",
    "Luego verificamos la lista actualizada de nombres de columnas en el DataFrame."
   ]
  },
  {
   "cell_type": "code",
   "execution_count": 86,
   "metadata": {},
   "outputs": [
    {
     "data": {
      "text/plain": [
       "Index(['genres', 'app_name', 'title', 'tags', 'specs', 'price', 'early_access',\n",
       "       'year'],\n",
       "      dtype='object')"
      ]
     },
     "execution_count": 86,
     "metadata": {},
     "output_type": "execute_result"
    }
   ],
   "source": [
    "df.drop('release_date', axis=1, inplace=True)\n",
    "\n",
    "df.columns"
   ]
  },
  {
   "cell_type": "markdown",
   "metadata": {},
   "source": [
    "*Genres, Tags y Specs*\n",
    "\n",
    "Estas tres variables representan características de los juegos y comparten un formato similar. \n",
    "\n",
    "Serán tratadas como variables categóricas nominales y serán desglosadas en variables dummy, creando una para cada valor único de estas variables. \n",
    "\n",
    "De considerarlo necesario eliminaremos alguna de ellas."
   ]
  },
  {
   "cell_type": "code",
   "execution_count": 87,
   "metadata": {},
   "outputs": [
    {
     "data": {
      "text/html": [
       "<div>\n",
       "<style scoped>\n",
       "    .dataframe tbody tr th:only-of-type {\n",
       "        vertical-align: middle;\n",
       "    }\n",
       "\n",
       "    .dataframe tbody tr th {\n",
       "        vertical-align: top;\n",
       "    }\n",
       "\n",
       "    .dataframe thead th {\n",
       "        text-align: right;\n",
       "    }\n",
       "</style>\n",
       "<table border=\"1\" class=\"dataframe\">\n",
       "  <thead>\n",
       "    <tr style=\"text-align: right;\">\n",
       "      <th></th>\n",
       "      <th>title</th>\n",
       "      <th>genres</th>\n",
       "      <th>tags</th>\n",
       "      <th>specs</th>\n",
       "      <th>price</th>\n",
       "    </tr>\n",
       "  </thead>\n",
       "  <tbody>\n",
       "    <tr>\n",
       "      <th>0</th>\n",
       "      <td>Lost Summoner Kitty</td>\n",
       "      <td>[Action, Casual, Indie, Simulation, Strategy]</td>\n",
       "      <td>[Strategy, Action, Indie, Casual, Simulation]</td>\n",
       "      <td>[Single-player]</td>\n",
       "      <td>4.99</td>\n",
       "    </tr>\n",
       "    <tr>\n",
       "      <th>3</th>\n",
       "      <td>弹炸人2222</td>\n",
       "      <td>[Action, Adventure, Casual]</td>\n",
       "      <td>[Action, Adventure, Casual]</td>\n",
       "      <td>[Single-player]</td>\n",
       "      <td>0.99</td>\n",
       "    </tr>\n",
       "    <tr>\n",
       "      <th>5</th>\n",
       "      <td>Battle Royale Trainer</td>\n",
       "      <td>[Action, Adventure, Simulation]</td>\n",
       "      <td>[Action, Adventure, Simulation, FPS, Shooter, ...</td>\n",
       "      <td>[Single-player, Steam Achievements]</td>\n",
       "      <td>3.99</td>\n",
       "    </tr>\n",
       "    <tr>\n",
       "      <th>6</th>\n",
       "      <td>SNOW - All Access Basic Pass</td>\n",
       "      <td>[Free to Play, Indie, Simulation, Sports]</td>\n",
       "      <td>[Free to Play, Indie, Simulation, Sports]</td>\n",
       "      <td>[Single-player, Multi-player, Online Multi-Pla...</td>\n",
       "      <td>9.99</td>\n",
       "    </tr>\n",
       "    <tr>\n",
       "      <th>7</th>\n",
       "      <td>SNOW - All Access Pro Pass</td>\n",
       "      <td>[Free to Play, Indie, Simulation, Sports]</td>\n",
       "      <td>[Free to Play, Indie, Simulation, Sports]</td>\n",
       "      <td>[Single-player, Multi-player, Online Multi-Pla...</td>\n",
       "      <td>18.99</td>\n",
       "    </tr>\n",
       "  </tbody>\n",
       "</table>\n",
       "</div>"
      ],
      "text/plain": [
       "                          title  \\\n",
       "0           Lost Summoner Kitty   \n",
       "3                       弹炸人2222   \n",
       "5         Battle Royale Trainer   \n",
       "6  SNOW - All Access Basic Pass   \n",
       "7    SNOW - All Access Pro Pass   \n",
       "\n",
       "                                          genres  \\\n",
       "0  [Action, Casual, Indie, Simulation, Strategy]   \n",
       "3                    [Action, Adventure, Casual]   \n",
       "5                [Action, Adventure, Simulation]   \n",
       "6      [Free to Play, Indie, Simulation, Sports]   \n",
       "7      [Free to Play, Indie, Simulation, Sports]   \n",
       "\n",
       "                                                tags  \\\n",
       "0      [Strategy, Action, Indie, Casual, Simulation]   \n",
       "3                        [Action, Adventure, Casual]   \n",
       "5  [Action, Adventure, Simulation, FPS, Shooter, ...   \n",
       "6          [Free to Play, Indie, Simulation, Sports]   \n",
       "7          [Free to Play, Indie, Simulation, Sports]   \n",
       "\n",
       "                                               specs  price  \n",
       "0                                    [Single-player]   4.99  \n",
       "3                                    [Single-player]   0.99  \n",
       "5                [Single-player, Steam Achievements]   3.99  \n",
       "6  [Single-player, Multi-player, Online Multi-Pla...   9.99  \n",
       "7  [Single-player, Multi-player, Online Multi-Pla...  18.99  "
      ]
     },
     "execution_count": 87,
     "metadata": {},
     "output_type": "execute_result"
    }
   ],
   "source": [
    "df[['title','genres', 'tags', 'specs', 'price']].head()"
   ]
  },
  {
   "cell_type": "markdown",
   "metadata": {},
   "source": [
    "Investigaremos por qué algunos registros están etiquetados como \"Free to Play\" pero aún tienen un precio asignado."
   ]
  },
  {
   "cell_type": "code",
   "execution_count": 88,
   "metadata": {},
   "outputs": [
    {
     "data": {
      "text/html": [
       "<div>\n",
       "<style scoped>\n",
       "    .dataframe tbody tr th:only-of-type {\n",
       "        vertical-align: middle;\n",
       "    }\n",
       "\n",
       "    .dataframe tbody tr th {\n",
       "        vertical-align: top;\n",
       "    }\n",
       "\n",
       "    .dataframe thead th {\n",
       "        text-align: right;\n",
       "    }\n",
       "</style>\n",
       "<table border=\"1\" class=\"dataframe\">\n",
       "  <thead>\n",
       "    <tr style=\"text-align: right;\">\n",
       "      <th></th>\n",
       "      <th>genres</th>\n",
       "      <th>app_name</th>\n",
       "      <th>title</th>\n",
       "      <th>tags</th>\n",
       "      <th>specs</th>\n",
       "      <th>price</th>\n",
       "      <th>early_access</th>\n",
       "      <th>year</th>\n",
       "    </tr>\n",
       "  </thead>\n",
       "  <tbody>\n",
       "    <tr>\n",
       "      <th>0</th>\n",
       "      <td>[Action, Casual, Indie, Simulation, Strategy]</td>\n",
       "      <td>Lost Summoner Kitty</td>\n",
       "      <td>Lost Summoner Kitty</td>\n",
       "      <td>strategy</td>\n",
       "      <td>[Single-player]</td>\n",
       "      <td>4.99</td>\n",
       "      <td>False</td>\n",
       "      <td>2018</td>\n",
       "    </tr>\n",
       "    <tr>\n",
       "      <th>0</th>\n",
       "      <td>[Action, Casual, Indie, Simulation, Strategy]</td>\n",
       "      <td>Lost Summoner Kitty</td>\n",
       "      <td>Lost Summoner Kitty</td>\n",
       "      <td>action</td>\n",
       "      <td>[Single-player]</td>\n",
       "      <td>4.99</td>\n",
       "      <td>False</td>\n",
       "      <td>2018</td>\n",
       "    </tr>\n",
       "    <tr>\n",
       "      <th>0</th>\n",
       "      <td>[Action, Casual, Indie, Simulation, Strategy]</td>\n",
       "      <td>Lost Summoner Kitty</td>\n",
       "      <td>Lost Summoner Kitty</td>\n",
       "      <td>indie</td>\n",
       "      <td>[Single-player]</td>\n",
       "      <td>4.99</td>\n",
       "      <td>False</td>\n",
       "      <td>2018</td>\n",
       "    </tr>\n",
       "    <tr>\n",
       "      <th>0</th>\n",
       "      <td>[Action, Casual, Indie, Simulation, Strategy]</td>\n",
       "      <td>Lost Summoner Kitty</td>\n",
       "      <td>Lost Summoner Kitty</td>\n",
       "      <td>casual</td>\n",
       "      <td>[Single-player]</td>\n",
       "      <td>4.99</td>\n",
       "      <td>False</td>\n",
       "      <td>2018</td>\n",
       "    </tr>\n",
       "    <tr>\n",
       "      <th>0</th>\n",
       "      <td>[Action, Casual, Indie, Simulation, Strategy]</td>\n",
       "      <td>Lost Summoner Kitty</td>\n",
       "      <td>Lost Summoner Kitty</td>\n",
       "      <td>simulation</td>\n",
       "      <td>[Single-player]</td>\n",
       "      <td>4.99</td>\n",
       "      <td>False</td>\n",
       "      <td>2018</td>\n",
       "    </tr>\n",
       "  </tbody>\n",
       "</table>\n",
       "</div>"
      ],
      "text/plain": [
       "                                          genres             app_name  \\\n",
       "0  [Action, Casual, Indie, Simulation, Strategy]  Lost Summoner Kitty   \n",
       "0  [Action, Casual, Indie, Simulation, Strategy]  Lost Summoner Kitty   \n",
       "0  [Action, Casual, Indie, Simulation, Strategy]  Lost Summoner Kitty   \n",
       "0  [Action, Casual, Indie, Simulation, Strategy]  Lost Summoner Kitty   \n",
       "0  [Action, Casual, Indie, Simulation, Strategy]  Lost Summoner Kitty   \n",
       "\n",
       "                 title        tags            specs  price  early_access  year  \n",
       "0  Lost Summoner Kitty    strategy  [Single-player]   4.99         False  2018  \n",
       "0  Lost Summoner Kitty      action  [Single-player]   4.99         False  2018  \n",
       "0  Lost Summoner Kitty       indie  [Single-player]   4.99         False  2018  \n",
       "0  Lost Summoner Kitty      casual  [Single-player]   4.99         False  2018  \n",
       "0  Lost Summoner Kitty  simulation  [Single-player]   4.99         False  2018  "
      ]
     },
     "execution_count": 88,
     "metadata": {},
     "output_type": "execute_result"
    }
   ],
   "source": [
    "df_exploded = df.explode('tags')\n",
    "\n",
    "df_exploded['tags'] = df_exploded['tags'].str.lower()\n",
    "\n",
    "df_exploded.head()"
   ]
  },
  {
   "cell_type": "code",
   "execution_count": 90,
   "metadata": {},
   "outputs": [
    {
     "name": "stdout",
     "output_type": "stream",
     "text": [
      "Cantidad de registros: 1095\n",
      "\n"
     ]
    },
    {
     "data": {
      "text/html": [
       "<div>\n",
       "<style scoped>\n",
       "    .dataframe tbody tr th:only-of-type {\n",
       "        vertical-align: middle;\n",
       "    }\n",
       "\n",
       "    .dataframe tbody tr th {\n",
       "        vertical-align: top;\n",
       "    }\n",
       "\n",
       "    .dataframe thead th {\n",
       "        text-align: right;\n",
       "    }\n",
       "</style>\n",
       "<table border=\"1\" class=\"dataframe\">\n",
       "  <thead>\n",
       "    <tr style=\"text-align: right;\">\n",
       "      <th></th>\n",
       "      <th>title</th>\n",
       "      <th>tags</th>\n",
       "      <th>price</th>\n",
       "    </tr>\n",
       "  </thead>\n",
       "  <tbody>\n",
       "    <tr>\n",
       "      <th>7261</th>\n",
       "      <td>Paladins® - Founder's Pack</td>\n",
       "      <td>free to play</td>\n",
       "      <td>19.99</td>\n",
       "    </tr>\n",
       "    <tr>\n",
       "      <th>15965</th>\n",
       "      <td>Hide and Seek - Gearhead</td>\n",
       "      <td>free to play</td>\n",
       "      <td>0.99</td>\n",
       "    </tr>\n",
       "    <tr>\n",
       "      <th>10376</th>\n",
       "      <td>Zaccaria Pinball - House of Diamonds 2017 Table</td>\n",
       "      <td>free to play</td>\n",
       "      <td>2.99</td>\n",
       "    </tr>\n",
       "    <tr>\n",
       "      <th>12937</th>\n",
       "      <td>Golden Hornet (Donationware)</td>\n",
       "      <td>free to play</td>\n",
       "      <td>0.99</td>\n",
       "    </tr>\n",
       "    <tr>\n",
       "      <th>7991</th>\n",
       "      <td>Pixel Puzzles Ultimate - Puzzle Pack: Ireland</td>\n",
       "      <td>free to play</td>\n",
       "      <td>2.99</td>\n",
       "    </tr>\n",
       "    <tr>\n",
       "      <th>18274</th>\n",
       "      <td>Fishing Planet: Largemouth Bass April Pack</td>\n",
       "      <td>free to play</td>\n",
       "      <td>19.99</td>\n",
       "    </tr>\n",
       "    <tr>\n",
       "      <th>31739</th>\n",
       "      <td>Penumbra: Black Plague Gold Edition</td>\n",
       "      <td>free to play</td>\n",
       "      <td>9.99</td>\n",
       "    </tr>\n",
       "    <tr>\n",
       "      <th>4350</th>\n",
       "      <td>One Way To Die: Deluxe Edition</td>\n",
       "      <td>free to play</td>\n",
       "      <td>0.99</td>\n",
       "    </tr>\n",
       "    <tr>\n",
       "      <th>23430</th>\n",
       "      <td>World of Guns: Sniper Rifles Pack #1</td>\n",
       "      <td>free to play</td>\n",
       "      <td>9.99</td>\n",
       "    </tr>\n",
       "    <tr>\n",
       "      <th>29685</th>\n",
       "      <td>King's Bounty: Legions | Champion of the Realm...</td>\n",
       "      <td>free to play</td>\n",
       "      <td>9.99</td>\n",
       "    </tr>\n",
       "  </tbody>\n",
       "</table>\n",
       "</div>"
      ],
      "text/plain": [
       "                                                   title          tags  price\n",
       "7261                          Paladins® - Founder's Pack  free to play  19.99\n",
       "15965                           Hide and Seek - Gearhead  free to play   0.99\n",
       "10376    Zaccaria Pinball - House of Diamonds 2017 Table  free to play   2.99\n",
       "12937                       Golden Hornet (Donationware)  free to play   0.99\n",
       "7991       Pixel Puzzles Ultimate - Puzzle Pack: Ireland  free to play   2.99\n",
       "18274         Fishing Planet: Largemouth Bass April Pack  free to play  19.99\n",
       "31739                Penumbra: Black Plague Gold Edition  free to play   9.99\n",
       "4350                      One Way To Die: Deluxe Edition  free to play   0.99\n",
       "23430               World of Guns: Sniper Rifles Pack #1  free to play   9.99\n",
       "29685  King's Bounty: Legions | Champion of the Realm...  free to play   9.99"
      ]
     },
     "execution_count": 90,
     "metadata": {},
     "output_type": "execute_result"
    }
   ],
   "source": [
    "mask = df_exploded['tags'] == 'free to play'\n",
    "df_exploded = df_exploded[mask]\n",
    "print(f\"Cantidad de registros: {df_exploded.shape[0]}\\n\")\n",
    "df_exploded[['title', 'tags', 'price']].sample(10)"
   ]
  },
  {
   "cell_type": "markdown",
   "metadata": {},
   "source": [
    "Si examinamos los títulos, observamos que se trata de paquetes o pases"
   ]
  },
  {
   "cell_type": "code",
   "execution_count": 92,
   "metadata": {},
   "outputs": [
    {
     "name": "stdout",
     "output_type": "stream",
     "text": [
      "Cantidad de registros que son paquetes: 3026\n",
      "\n"
     ]
    },
    {
     "data": {
      "text/html": [
       "<div>\n",
       "<style scoped>\n",
       "    .dataframe tbody tr th:only-of-type {\n",
       "        vertical-align: middle;\n",
       "    }\n",
       "\n",
       "    .dataframe tbody tr th {\n",
       "        vertical-align: top;\n",
       "    }\n",
       "\n",
       "    .dataframe thead th {\n",
       "        text-align: right;\n",
       "    }\n",
       "</style>\n",
       "<table border=\"1\" class=\"dataframe\">\n",
       "  <thead>\n",
       "    <tr style=\"text-align: right;\">\n",
       "      <th></th>\n",
       "      <th>genres</th>\n",
       "      <th>app_name</th>\n",
       "      <th>title</th>\n",
       "      <th>tags</th>\n",
       "      <th>specs</th>\n",
       "      <th>price</th>\n",
       "      <th>early_access</th>\n",
       "      <th>year</th>\n",
       "    </tr>\n",
       "  </thead>\n",
       "  <tbody>\n",
       "    <tr>\n",
       "      <th>16</th>\n",
       "      <td>[Free to Play, Indie, Simulation, Sports]</td>\n",
       "      <td>SNOW - Starter Pack</td>\n",
       "      <td>SNOW - Starter Pack</td>\n",
       "      <td>[Free to Play, Indie, Simulation, Sports]</td>\n",
       "      <td>[Single-player, Multi-player, Online Multi-Pla...</td>\n",
       "      <td>14.99</td>\n",
       "      <td>False</td>\n",
       "      <td>2018</td>\n",
       "    </tr>\n",
       "    <tr>\n",
       "      <th>18</th>\n",
       "      <td>[Free to Play, Indie, Simulation, Sports]</td>\n",
       "      <td>SNOW - Lifetime Pack</td>\n",
       "      <td>SNOW - Lifetime Pack</td>\n",
       "      <td>[Free to Play, Indie, Simulation, Sports]</td>\n",
       "      <td>[Single-player, Multi-player, Online Multi-Pla...</td>\n",
       "      <td>59.99</td>\n",
       "      <td>False</td>\n",
       "      <td>2018</td>\n",
       "    </tr>\n",
       "    <tr>\n",
       "      <th>27</th>\n",
       "      <td>[Action, Indie, Racing]</td>\n",
       "      <td>Carmageddon Max Pack</td>\n",
       "      <td>Carmageddon Max Pack</td>\n",
       "      <td>[Racing, Action, Classic, Indie, Gore, 1990's,...</td>\n",
       "      <td>[Single-player, Multi-player, Steam Trading Ca...</td>\n",
       "      <td>9.99</td>\n",
       "      <td>False</td>\n",
       "      <td>1997</td>\n",
       "    </tr>\n",
       "    <tr>\n",
       "      <th>89</th>\n",
       "      <td>[Action]</td>\n",
       "      <td>QUAKE Mission Pack 1: Scourge of Armagon</td>\n",
       "      <td>QUAKE Mission Pack 1: Scourge of Armagon</td>\n",
       "      <td>[Action, FPS, Classic, Shooter, First-Person, ...</td>\n",
       "      <td>[Single-player, Multi-player, Steam Cloud]</td>\n",
       "      <td>2.99</td>\n",
       "      <td>False</td>\n",
       "      <td>1997</td>\n",
       "    </tr>\n",
       "    <tr>\n",
       "      <th>92</th>\n",
       "      <td>[Action]</td>\n",
       "      <td>QUAKE Mission Pack 2: Dissolution of Eternity</td>\n",
       "      <td>QUAKE Mission Pack 2: Dissolution of Eternity</td>\n",
       "      <td>[Action, FPS, Shooter, Classic, First-Person]</td>\n",
       "      <td>[Single-player, Multi-player, Steam Cloud]</td>\n",
       "      <td>2.99</td>\n",
       "      <td>False</td>\n",
       "      <td>2007</td>\n",
       "    </tr>\n",
       "  </tbody>\n",
       "</table>\n",
       "</div>"
      ],
      "text/plain": [
       "                                       genres  \\\n",
       "16  [Free to Play, Indie, Simulation, Sports]   \n",
       "18  [Free to Play, Indie, Simulation, Sports]   \n",
       "27                    [Action, Indie, Racing]   \n",
       "89                                   [Action]   \n",
       "92                                   [Action]   \n",
       "\n",
       "                                         app_name  \\\n",
       "16                            SNOW - Starter Pack   \n",
       "18                           SNOW - Lifetime Pack   \n",
       "27                           Carmageddon Max Pack   \n",
       "89       QUAKE Mission Pack 1: Scourge of Armagon   \n",
       "92  QUAKE Mission Pack 2: Dissolution of Eternity   \n",
       "\n",
       "                                            title  \\\n",
       "16                            SNOW - Starter Pack   \n",
       "18                           SNOW - Lifetime Pack   \n",
       "27                           Carmageddon Max Pack   \n",
       "89       QUAKE Mission Pack 1: Scourge of Armagon   \n",
       "92  QUAKE Mission Pack 2: Dissolution of Eternity   \n",
       "\n",
       "                                                 tags  \\\n",
       "16          [Free to Play, Indie, Simulation, Sports]   \n",
       "18          [Free to Play, Indie, Simulation, Sports]   \n",
       "27  [Racing, Action, Classic, Indie, Gore, 1990's,...   \n",
       "89  [Action, FPS, Classic, Shooter, First-Person, ...   \n",
       "92      [Action, FPS, Shooter, Classic, First-Person]   \n",
       "\n",
       "                                                specs  price  early_access  \\\n",
       "16  [Single-player, Multi-player, Online Multi-Pla...  14.99         False   \n",
       "18  [Single-player, Multi-player, Online Multi-Pla...  59.99         False   \n",
       "27  [Single-player, Multi-player, Steam Trading Ca...   9.99         False   \n",
       "89         [Single-player, Multi-player, Steam Cloud]   2.99         False   \n",
       "92         [Single-player, Multi-player, Steam Cloud]   2.99         False   \n",
       "\n",
       "    year  \n",
       "16  2018  \n",
       "18  2018  \n",
       "27  1997  \n",
       "89  1997  \n",
       "92  2007  "
      ]
     },
     "execution_count": 92,
     "metadata": {},
     "output_type": "execute_result"
    }
   ],
   "source": [
    "paquetes = df['title'].str.contains('pack', case=False)\n",
    "paquetes = paquetes.fillna(False)\n",
    "df_paquetes = df[paquetes]\n",
    "print(f\"Cantidad de registros que son paquetes: {df_paquetes.shape[0]}\\n\")\n",
    "df_paquetes.head()"
   ]
  },
  {
   "cell_type": "code",
   "execution_count": 93,
   "metadata": {},
   "outputs": [
    {
     "name": "stdout",
     "output_type": "stream",
     "text": [
      "Cantidad de registros que son Pass: 127\n",
      "\n"
     ]
    },
    {
     "data": {
      "text/html": [
       "<div>\n",
       "<style scoped>\n",
       "    .dataframe tbody tr th:only-of-type {\n",
       "        vertical-align: middle;\n",
       "    }\n",
       "\n",
       "    .dataframe tbody tr th {\n",
       "        vertical-align: top;\n",
       "    }\n",
       "\n",
       "    .dataframe thead th {\n",
       "        text-align: right;\n",
       "    }\n",
       "</style>\n",
       "<table border=\"1\" class=\"dataframe\">\n",
       "  <thead>\n",
       "    <tr style=\"text-align: right;\">\n",
       "      <th></th>\n",
       "      <th>genres</th>\n",
       "      <th>app_name</th>\n",
       "      <th>title</th>\n",
       "      <th>tags</th>\n",
       "      <th>specs</th>\n",
       "      <th>price</th>\n",
       "      <th>early_access</th>\n",
       "      <th>year</th>\n",
       "    </tr>\n",
       "  </thead>\n",
       "  <tbody>\n",
       "    <tr>\n",
       "      <th>5338</th>\n",
       "      <td>[Action]</td>\n",
       "      <td>Street Fighter V - Season 1 Character Pass</td>\n",
       "      <td>Street Fighter V - Season 1 Character Pass</td>\n",
       "      <td>[Action, Fighting]</td>\n",
       "      <td>[Single-player, Multi-player, Cross-Platform M...</td>\n",
       "      <td>19.99</td>\n",
       "      <td>False</td>\n",
       "      <td>2016</td>\n",
       "    </tr>\n",
       "    <tr>\n",
       "      <th>30249</th>\n",
       "      <td>[Simulation]</td>\n",
       "      <td>Train Simulator: Marias Pass Route Add-On</td>\n",
       "      <td>Train Simulator: Marias Pass Route Add-On</td>\n",
       "      <td>[Simulation, Trains]</td>\n",
       "      <td>[Single-player, Downloadable Content, Steam Ac...</td>\n",
       "      <td>19.99</td>\n",
       "      <td>False</td>\n",
       "      <td>2013</td>\n",
       "    </tr>\n",
       "    <tr>\n",
       "      <th>9992</th>\n",
       "      <td>[Action, Sports]</td>\n",
       "      <td>TEKKEN 7 - Season Pass</td>\n",
       "      <td>TEKKEN 7 - Season Pass</td>\n",
       "      <td>[Action, Sports, Fighting]</td>\n",
       "      <td>[Single-player, Multi-player, Online Multi-Pla...</td>\n",
       "      <td>24.99</td>\n",
       "      <td>False</td>\n",
       "      <td>2017</td>\n",
       "    </tr>\n",
       "    <tr>\n",
       "      <th>8</th>\n",
       "      <td>[Free to Play, Indie, Simulation, Sports]</td>\n",
       "      <td>SNOW - All Access Legend Pass</td>\n",
       "      <td>SNOW - All Access Legend Pass</td>\n",
       "      <td>[Free to Play, Indie, Simulation, Sports]</td>\n",
       "      <td>[Single-player, Multi-player, Online Multi-Pla...</td>\n",
       "      <td>29.99</td>\n",
       "      <td>False</td>\n",
       "      <td>2018</td>\n",
       "    </tr>\n",
       "    <tr>\n",
       "      <th>4990</th>\n",
       "      <td>[Design &amp;amp; Illustration, Web Publishing]</td>\n",
       "      <td>RPG Maker MV - Season Pass</td>\n",
       "      <td>RPG Maker MV - Season Pass</td>\n",
       "      <td>[Design &amp; Illustration, Web Publishing]</td>\n",
       "      <td>[Downloadable Content, Partial Controller Supp...</td>\n",
       "      <td>29.99</td>\n",
       "      <td>False</td>\n",
       "      <td>2015</td>\n",
       "    </tr>\n",
       "  </tbody>\n",
       "</table>\n",
       "</div>"
      ],
      "text/plain": [
       "                                            genres  \\\n",
       "5338                                      [Action]   \n",
       "30249                                 [Simulation]   \n",
       "9992                              [Action, Sports]   \n",
       "8        [Free to Play, Indie, Simulation, Sports]   \n",
       "4990   [Design &amp; Illustration, Web Publishing]   \n",
       "\n",
       "                                         app_name  \\\n",
       "5338   Street Fighter V - Season 1 Character Pass   \n",
       "30249   Train Simulator: Marias Pass Route Add-On   \n",
       "9992                       TEKKEN 7 - Season Pass   \n",
       "8                   SNOW - All Access Legend Pass   \n",
       "4990                   RPG Maker MV - Season Pass   \n",
       "\n",
       "                                            title  \\\n",
       "5338   Street Fighter V - Season 1 Character Pass   \n",
       "30249   Train Simulator: Marias Pass Route Add-On   \n",
       "9992                       TEKKEN 7 - Season Pass   \n",
       "8                   SNOW - All Access Legend Pass   \n",
       "4990                   RPG Maker MV - Season Pass   \n",
       "\n",
       "                                            tags  \\\n",
       "5338                          [Action, Fighting]   \n",
       "30249                       [Simulation, Trains]   \n",
       "9992                  [Action, Sports, Fighting]   \n",
       "8      [Free to Play, Indie, Simulation, Sports]   \n",
       "4990     [Design & Illustration, Web Publishing]   \n",
       "\n",
       "                                                   specs  price  early_access  \\\n",
       "5338   [Single-player, Multi-player, Cross-Platform M...  19.99         False   \n",
       "30249  [Single-player, Downloadable Content, Steam Ac...  19.99         False   \n",
       "9992   [Single-player, Multi-player, Online Multi-Pla...  24.99         False   \n",
       "8      [Single-player, Multi-player, Online Multi-Pla...  29.99         False   \n",
       "4990   [Downloadable Content, Partial Controller Supp...  29.99         False   \n",
       "\n",
       "       year  \n",
       "5338   2016  \n",
       "30249  2013  \n",
       "9992   2017  \n",
       "8      2018  \n",
       "4990   2015  "
      ]
     },
     "execution_count": 93,
     "metadata": {},
     "output_type": "execute_result"
    }
   ],
   "source": [
    "pase = df['title'].str.contains('pass', case=False)\n",
    "pase = pase.fillna(False)\n",
    "df_pase = df[pase]\n",
    "print(f\"Cantidad de registros que son Pass: {df_pase.shape[0]}\\n\")\n",
    "df_pase.sample(5)"
   ]
  },
  {
   "cell_type": "markdown",
   "metadata": {},
   "source": [
    "Como se puede observar en los cuadros anteriores, encontramos registros que corresponden a paquetes o pases. Sin embargo, no los vamos a separar o eliminar, ya que nuestro objetivo es predecir el precio de cualquier elemento en la tienda de Steam, no solo los juegos."
   ]
  },
  {
   "cell_type": "markdown",
   "metadata": {},
   "source": [
    "Ahora procederemos a crear las variables dummy correspondientes, las cuales permitirán identificar los elementos etiquetados como \"free to play\"."
   ]
  },
  {
   "cell_type": "code",
   "execution_count": 94,
   "metadata": {},
   "outputs": [
    {
     "name": "stdout",
     "output_type": "stream",
     "text": [
      "genres unicos: 21\n",
      "tags unicos: 336\n",
      "specs unicos: 28\n",
      "listas sumadas: 385\n",
      "valores unicos combinados: 363\n"
     ]
    }
   ],
   "source": [
    "# Lista de los valores únicos de las columnas genres, tags y specs\n",
    "\n",
    "df_genres = df.explode('genres')\n",
    "lista_genres = df_genres['genres'].str.lower().unique().tolist()\n",
    "print(f\"genres unicos: {len(lista_genres)}\")\n",
    "\n",
    "df_tags = df.explode('tags')\n",
    "lista_tags = df_tags['tags'].str.lower().unique().tolist()\n",
    "print(f\"tags unicos: {len(lista_tags)}\")\n",
    "\n",
    "df_specs = df.explode('specs')\n",
    "lista_specs = df_specs['specs'].str.lower().unique().tolist()\n",
    "print(f\"specs unicos: {len(lista_specs)}\")\n",
    "\n",
    "# Concatenamos\n",
    "lista_completa = lista_genres + lista_tags + lista_specs\n",
    "print(f\"listas sumadas: {len(lista_completa)}\")\n",
    "\n",
    "set_completo = set(lista_completa)\n",
    "lista_unicos = list(set_completo)\n",
    "print(f\"valores unicos combinados: {len(lista_unicos)}\")"
   ]
  },
  {
   "cell_type": "markdown",
   "metadata": {},
   "source": [
    "Podemos ver la cantidad de columnas que estaríamos agregando al Dataset."
   ]
  },
  {
   "cell_type": "code",
   "execution_count": 95,
   "metadata": {},
   "outputs": [
    {
     "name": "stdout",
     "output_type": "stream",
     "text": [
      "<class 'pandas.core.frame.DataFrame'>\n",
      "Index: 25799 entries, 0 to 32133\n",
      "Data columns (total 8 columns):\n",
      " #   Column        Non-Null Count  Dtype  \n",
      "---  ------        --------------  -----  \n",
      " 0   genres        25799 non-null  object \n",
      " 1   app_name      25799 non-null  object \n",
      " 2   title         25799 non-null  object \n",
      " 3   tags          25799 non-null  object \n",
      " 4   specs         25799 non-null  object \n",
      " 5   price         25799 non-null  float64\n",
      " 6   early_access  25799 non-null  bool   \n",
      " 7   year          25799 non-null  int32  \n",
      "dtypes: bool(1), float64(1), int32(1), object(5)\n",
      "memory usage: 1.5+ MB\n"
     ]
    }
   ],
   "source": [
    "df.info()"
   ]
  },
  {
   "cell_type": "markdown",
   "metadata": {},
   "source": [
    "Reemplazaremos los valores nulos en la columna \"genres\" y \"specs\" por listas vacías lo que nos permitirá concatenar las listas correspondientes sin perder información. \n",
    "\n",
    "La columna \"tags\" dejará de ser tenida en cuenta y será eliminada más adelante. "
   ]
  },
  {
   "cell_type": "code",
   "execution_count": 96,
   "metadata": {},
   "outputs": [],
   "source": [
    "isna = df['specs'].isna()\n",
    "df.loc[isna, 'specs'] = pd.Series([[]] * isna.sum()).values\n",
    "\n",
    "isna = df['genres'].isna()\n",
    "df.loc[isna, 'genres'] = pd.Series([[]] * isna.sum()).values"
   ]
  },
  {
   "cell_type": "markdown",
   "metadata": {},
   "source": [
    "Concatenamos las features en una nueva columna."
   ]
  },
  {
   "cell_type": "code",
   "execution_count": 97,
   "metadata": {},
   "outputs": [
    {
     "data": {
      "text/html": [
       "<div>\n",
       "<style scoped>\n",
       "    .dataframe tbody tr th:only-of-type {\n",
       "        vertical-align: middle;\n",
       "    }\n",
       "\n",
       "    .dataframe tbody tr th {\n",
       "        vertical-align: top;\n",
       "    }\n",
       "\n",
       "    .dataframe thead th {\n",
       "        text-align: right;\n",
       "    }\n",
       "</style>\n",
       "<table border=\"1\" class=\"dataframe\">\n",
       "  <thead>\n",
       "    <tr style=\"text-align: right;\">\n",
       "      <th></th>\n",
       "      <th>features</th>\n",
       "      <th>genres</th>\n",
       "      <th>specs</th>\n",
       "    </tr>\n",
       "  </thead>\n",
       "  <tbody>\n",
       "    <tr>\n",
       "      <th>0</th>\n",
       "      <td>[Action, Casual, Indie, Simulation, Strategy, ...</td>\n",
       "      <td>[Action, Casual, Indie, Simulation, Strategy]</td>\n",
       "      <td>[Single-player]</td>\n",
       "    </tr>\n",
       "    <tr>\n",
       "      <th>3</th>\n",
       "      <td>[Action, Adventure, Casual, Single-player]</td>\n",
       "      <td>[Action, Adventure, Casual]</td>\n",
       "      <td>[Single-player]</td>\n",
       "    </tr>\n",
       "    <tr>\n",
       "      <th>5</th>\n",
       "      <td>[Action, Adventure, Simulation, Single-player,...</td>\n",
       "      <td>[Action, Adventure, Simulation]</td>\n",
       "      <td>[Single-player, Steam Achievements]</td>\n",
       "    </tr>\n",
       "    <tr>\n",
       "      <th>6</th>\n",
       "      <td>[Free to Play, Indie, Simulation, Sports, Sing...</td>\n",
       "      <td>[Free to Play, Indie, Simulation, Sports]</td>\n",
       "      <td>[Single-player, Multi-player, Online Multi-Pla...</td>\n",
       "    </tr>\n",
       "    <tr>\n",
       "      <th>7</th>\n",
       "      <td>[Free to Play, Indie, Simulation, Sports, Sing...</td>\n",
       "      <td>[Free to Play, Indie, Simulation, Sports]</td>\n",
       "      <td>[Single-player, Multi-player, Online Multi-Pla...</td>\n",
       "    </tr>\n",
       "    <tr>\n",
       "      <th>...</th>\n",
       "      <td>...</td>\n",
       "      <td>...</td>\n",
       "      <td>...</td>\n",
       "    </tr>\n",
       "    <tr>\n",
       "      <th>32129</th>\n",
       "      <td>[Action, Adventure, Casual, Indie, Single-play...</td>\n",
       "      <td>[Action, Adventure, Casual, Indie]</td>\n",
       "      <td>[Single-player, Steam Achievements, Steam Cloud]</td>\n",
       "    </tr>\n",
       "    <tr>\n",
       "      <th>32130</th>\n",
       "      <td>[Casual, Indie, Simulation, Strategy, Single-p...</td>\n",
       "      <td>[Casual, Indie, Simulation, Strategy]</td>\n",
       "      <td>[Single-player, Steam Achievements]</td>\n",
       "    </tr>\n",
       "    <tr>\n",
       "      <th>32131</th>\n",
       "      <td>[Casual, Indie, Strategy, Single-player, Steam...</td>\n",
       "      <td>[Casual, Indie, Strategy]</td>\n",
       "      <td>[Single-player, Steam Achievements, Steam Clou...</td>\n",
       "    </tr>\n",
       "    <tr>\n",
       "      <th>32132</th>\n",
       "      <td>[Indie, Racing, Simulation, Single-player, Ste...</td>\n",
       "      <td>[Indie, Racing, Simulation]</td>\n",
       "      <td>[Single-player, Steam Achievements, Steam Trad...</td>\n",
       "    </tr>\n",
       "    <tr>\n",
       "      <th>32133</th>\n",
       "      <td>[Casual, Indie, Single-player, Steam Achieveme...</td>\n",
       "      <td>[Casual, Indie]</td>\n",
       "      <td>[Single-player, Steam Achievements, Steam Cloud]</td>\n",
       "    </tr>\n",
       "  </tbody>\n",
       "</table>\n",
       "<p>25799 rows × 3 columns</p>\n",
       "</div>"
      ],
      "text/plain": [
       "                                                features  \\\n",
       "0      [Action, Casual, Indie, Simulation, Strategy, ...   \n",
       "3             [Action, Adventure, Casual, Single-player]   \n",
       "5      [Action, Adventure, Simulation, Single-player,...   \n",
       "6      [Free to Play, Indie, Simulation, Sports, Sing...   \n",
       "7      [Free to Play, Indie, Simulation, Sports, Sing...   \n",
       "...                                                  ...   \n",
       "32129  [Action, Adventure, Casual, Indie, Single-play...   \n",
       "32130  [Casual, Indie, Simulation, Strategy, Single-p...   \n",
       "32131  [Casual, Indie, Strategy, Single-player, Steam...   \n",
       "32132  [Indie, Racing, Simulation, Single-player, Ste...   \n",
       "32133  [Casual, Indie, Single-player, Steam Achieveme...   \n",
       "\n",
       "                                              genres  \\\n",
       "0      [Action, Casual, Indie, Simulation, Strategy]   \n",
       "3                        [Action, Adventure, Casual]   \n",
       "5                    [Action, Adventure, Simulation]   \n",
       "6          [Free to Play, Indie, Simulation, Sports]   \n",
       "7          [Free to Play, Indie, Simulation, Sports]   \n",
       "...                                              ...   \n",
       "32129             [Action, Adventure, Casual, Indie]   \n",
       "32130          [Casual, Indie, Simulation, Strategy]   \n",
       "32131                      [Casual, Indie, Strategy]   \n",
       "32132                    [Indie, Racing, Simulation]   \n",
       "32133                                [Casual, Indie]   \n",
       "\n",
       "                                                   specs  \n",
       "0                                        [Single-player]  \n",
       "3                                        [Single-player]  \n",
       "5                    [Single-player, Steam Achievements]  \n",
       "6      [Single-player, Multi-player, Online Multi-Pla...  \n",
       "7      [Single-player, Multi-player, Online Multi-Pla...  \n",
       "...                                                  ...  \n",
       "32129   [Single-player, Steam Achievements, Steam Cloud]  \n",
       "32130                [Single-player, Steam Achievements]  \n",
       "32131  [Single-player, Steam Achievements, Steam Clou...  \n",
       "32132  [Single-player, Steam Achievements, Steam Trad...  \n",
       "32133   [Single-player, Steam Achievements, Steam Cloud]  \n",
       "\n",
       "[25799 rows x 3 columns]"
      ]
     },
     "execution_count": 97,
     "metadata": {},
     "output_type": "execute_result"
    }
   ],
   "source": [
    "df['features'] = df['genres'] + df['specs']\n",
    "df[['features', 'genres', 'specs']]"
   ]
  },
  {
   "cell_type": "markdown",
   "metadata": {},
   "source": [
    "Los datos duplicados de cada lista serán eliminados."
   ]
  },
  {
   "cell_type": "code",
   "execution_count": 98,
   "metadata": {},
   "outputs": [],
   "source": [
    "df['features'] = df['features'].apply(lambda x: list(set(x)))"
   ]
  },
  {
   "cell_type": "markdown",
   "metadata": {},
   "source": [
    "Generamos las dummies."
   ]
  },
  {
   "cell_type": "code",
   "execution_count": 99,
   "metadata": {},
   "outputs": [
    {
     "name": "stdout",
     "output_type": "stream",
     "text": [
      "9\n",
      "48\n",
      "57\n"
     ]
    }
   ],
   "source": [
    "print(df.shape[1])\n",
    "\n",
    "df_dummies = pd.get_dummies(df.features.explode(), drop_first=True).groupby(level=0).sum()\n",
    "print(df_dummies.shape[1])\n",
    "\n",
    "columnas_categoricas = df_dummies.columns.tolist()\n",
    "\n",
    "df = pd.concat([df, df_dummies], axis=1, join='inner')\n",
    "print(df.shape[1])"
   ]
  },
  {
   "cell_type": "markdown",
   "metadata": {},
   "source": [
    "Eliminamos las columnas features, genres, tags y specs."
   ]
  },
  {
   "cell_type": "code",
   "execution_count": 100,
   "metadata": {},
   "outputs": [],
   "source": [
    "df = df.drop(['features', 'genres', 'tags', 'specs'], axis=1)"
   ]
  },
  {
   "cell_type": "markdown",
   "metadata": {},
   "source": [
    "*Title y App Name*\n",
    "\n",
    "Debido a la complejidad del proceso necesario para una evaluación y procesamiento responsable, y la limitación de tiempo, se eliminaran ambas variables."
   ]
  },
  {
   "cell_type": "code",
   "execution_count": 101,
   "metadata": {},
   "outputs": [],
   "source": [
    "df = df.drop(['title', 'app_name'], axis=1)"
   ]
  },
  {
   "cell_type": "markdown",
   "metadata": {},
   "source": [
    "*Exploracion de nulos y outlayers*\n",
    "\n",
    "Virifiquemos valores y precios"
   ]
  },
  {
   "cell_type": "code",
   "execution_count": 102,
   "metadata": {},
   "outputs": [
    {
     "name": "stdout",
     "output_type": "stream",
     "text": [
      "Registros: 25799\n",
      "\n"
     ]
    },
    {
     "data": {
      "text/plain": [
       "price                         0\n",
       "Stats                         0\n",
       "Online Multi-Player           0\n",
       "Partial Controller Support    0\n",
       "Photo Editing                 0\n",
       "RPG                           0\n",
       "Racing                        0\n",
       "Shared/Split Screen           0\n",
       "Simulation                    0\n",
       "Single-player                 0\n",
       "Software Training             0\n",
       "Sports                        0\n",
       "Steam Achievements            0\n",
       "Multi-player                  0\n",
       "Steam Cloud                   0\n",
       "Steam Leaderboards            0\n",
       "Steam Trading Cards           0\n",
       "Steam Turn Notifications      0\n",
       "Steam Workshop                0\n",
       "SteamVR Collectibles          0\n",
       "Strategy                      0\n",
       "Utilities                     0\n",
       "Valve Anti-Cheat enabled      0\n",
       "Video Production              0\n",
       "Online Co-op                  0\n",
       "Massively Multiplayer         0\n",
       "early_access                  0\n",
       "Downloadable Content          0\n",
       "year                          0\n",
       "Adventure                     0\n",
       "Animation &amp; Modeling      0\n",
       "Audio Production              0\n",
       "Captions available            0\n",
       "Casual                        0\n",
       "Co-op                         0\n",
       "Commentary available          0\n",
       "Cross-Platform Multiplayer    0\n",
       "Design &amp; Illustration     0\n",
       "Early Access                  0\n",
       "MMO                           0\n",
       "Education                     0\n",
       "Free to Play                  0\n",
       "Full controller support       0\n",
       "Game demo                     0\n",
       "In-App Purchases              0\n",
       "Includes Source SDK           0\n",
       "Includes level editor         0\n",
       "Indie                         0\n",
       "Local Co-op                   0\n",
       "Local Multi-Player            0\n",
       "Web Publishing                0\n",
       "dtype: int64"
      ]
     },
     "execution_count": 102,
     "metadata": {},
     "output_type": "execute_result"
    }
   ],
   "source": [
    "filas = df.shape[0]\n",
    "\n",
    "print(f'Registros: {filas}\\n')\n",
    "\n",
    "df.isna().sum().sort_values(ascending=False)"
   ]
  },
  {
   "cell_type": "code",
   "execution_count": 103,
   "metadata": {},
   "outputs": [
    {
     "data": {
      "text/plain": [
       "12088    995.00\n",
       "2392     771.71\n",
       "14304    499.99\n",
       "17794    499.99\n",
       "9074     399.99\n",
       "9075     399.99\n",
       "4445     299.99\n",
       "29566    299.99\n",
       "26852    289.99\n",
       "17793    249.99\n",
       "15394    202.76\n",
       "22535    199.99\n",
       "14959    199.99\n",
       "15424    199.99\n",
       "22820    199.00\n",
       "28498    189.96\n",
       "16446    172.24\n",
       "30353    160.91\n",
       "13944    149.99\n",
       "9076     149.99\n",
       "2335     149.99\n",
       "13937    149.99\n",
       "20416    149.99\n",
       "9798     149.99\n",
       "12445    149.99\n",
       "29668    149.99\n",
       "10908    149.99\n",
       "3259     139.92\n",
       "15204    131.40\n",
       "28061    129.99\n",
       "4706     119.99\n",
       "17610    119.99\n",
       "11420    119.99\n",
       "9474     119.99\n",
       "2229     109.99\n",
       "2640      99.99\n",
       "21113     99.99\n",
       "29810     99.99\n",
       "8889      99.99\n",
       "10178     99.99\n",
       "2333      99.99\n",
       "29865     99.99\n",
       "1801      99.99\n",
       "20417     99.99\n",
       "16932     99.99\n",
       "22769     99.99\n",
       "9923      99.99\n",
       "16828     99.99\n",
       "8026      99.99\n",
       "15213     99.99\n",
       "4273      99.99\n",
       "2639      99.99\n",
       "1094      99.99\n",
       "2468      99.99\n",
       "22292     99.99\n",
       "2038      99.99\n",
       "14309     99.99\n",
       "20685     99.99\n",
       "14308     99.99\n",
       "4702      99.99\n",
       "Name: price, dtype: float64"
      ]
     },
     "execution_count": 103,
     "metadata": {},
     "output_type": "execute_result"
    }
   ],
   "source": [
    "df['price'].sort_values(ascending=False).head(60)"
   ]
  },
  {
   "cell_type": "code",
   "execution_count": 104,
   "metadata": {},
   "outputs": [
    {
     "data": {
      "text/plain": [
       "23942    0.49\n",
       "25623    0.49\n",
       "4023     0.50\n",
       "3855     0.89\n",
       "16106    0.95\n",
       "Name: price, dtype: float64"
      ]
     },
     "execution_count": 104,
     "metadata": {},
     "output_type": "execute_result"
    }
   ],
   "source": [
    "df['price'].sort_values(ascending=True).head()"
   ]
  },
  {
   "cell_type": "code",
   "execution_count": 105,
   "metadata": {},
   "outputs": [],
   "source": [
    "df_out = df['price'] < 130\n",
    "df_out.sum()\n",
    "\n",
    "df = df[df_out]"
   ]
  },
  {
   "cell_type": "code",
   "execution_count": 56,
   "metadata": {},
   "outputs": [],
   "source": [
    "df.to_csv('data_ml.csv', index=False)"
   ]
  }
 ],
 "metadata": {
  "kernelspec": {
   "display_name": "Python 3",
   "language": "python",
   "name": "python3"
  },
  "language_info": {
   "codemirror_mode": {
    "name": "ipython",
    "version": 3
   },
   "file_extension": ".py",
   "mimetype": "text/x-python",
   "name": "python",
   "nbconvert_exporter": "python",
   "pygments_lexer": "ipython3",
   "version": "3.11.4"
  },
  "orig_nbformat": 4
 },
 "nbformat": 4,
 "nbformat_minor": 2
}
